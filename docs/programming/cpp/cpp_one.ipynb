{
 "cells": [
  {
   "cell_type": "markdown",
   "metadata": {},
   "source": [
    "## Installation of Interactive C++17\n",
    "```bash\n",
    "conda create -n cpp\n",
    "source activate cpp\n",
    "conda install -c conda-forge xeus-cling\n",
    "jupyter kernelspec install --user /home/ritchie/miniconda3/envs/cpp/share/jupyter/kernels/xcpp17\n",
    "jupyter notebook\n",
    "```"
   ]
  },
  {
   "cell_type": "markdown",
   "metadata": {},
   "source": [
    "## Printing"
   ]
  },
  {
   "cell_type": "markdown",
   "metadata": {},
   "source": [
    "### Printing Single Line"
   ]
  },
  {
   "cell_type": "code",
   "execution_count": 1,
   "metadata": {},
   "outputs": [],
   "source": [
    "// When you compile, the preprocessor runs and acts on all line with the pound key first\n",
    "\n",
    "// This is a preprocessor instruction that\n",
    "// essentially places the file with the name iostream into this spot\n",
    "#include <iostream>"
   ]
  },
  {
   "cell_type": "code",
   "execution_count": 2,
   "metadata": {},
   "outputs": [
    {
     "name": "stdout",
     "output_type": "stream",
     "text": [
      "Using Xeus Cling\n"
     ]
    }
   ],
   "source": [
    "// Print one line\n",
    "std::cout << \"Using Xeus Cling\" << std::endl;"
   ]
  },
  {
   "cell_type": "markdown",
   "metadata": {},
   "source": [
    "### Printing 2 Lines"
   ]
  },
  {
   "cell_type": "code",
   "execution_count": 3,
   "metadata": {},
   "outputs": [
    {
     "name": "stdout",
     "output_type": "stream",
     "text": [
      "First Line \n",
      "Second Line\n"
     ]
    }
   ],
   "source": [
    "// Print two lines\n",
    "std::cout << \"First Line \\nSecond Line\" << std::endl;"
   ]
  },
  {
   "cell_type": "markdown",
   "metadata": {},
   "source": [
    "### Printing with Tabs"
   ]
  },
  {
   "cell_type": "code",
   "execution_count": 4,
   "metadata": {},
   "outputs": [
    {
     "name": "stdout",
     "output_type": "stream",
     "text": [
      "One hundred:\t100\n",
      "Two hundred:\t200\n",
      "Three hundred:\t300\n"
     ]
    }
   ],
   "source": [
    "// Print numbers with nicely formatted tabs\n",
    "std::cout << \"One hundred:\\t\";\n",
    "std::cout << (float) 1000/10 << std::endl;\n",
    "\n",
    "std::cout << \"Two hundred:\\t\";\n",
    "std::cout << (double) 2000/10 << std::endl;\n",
    "\n",
    "std::cout << \"Three hundred:\\t\";\n",
    "std::cout << (double) 3000/10 << std::endl;"
   ]
  },
  {
   "cell_type": "markdown",
   "metadata": {},
   "source": [
    "### Easier Printing (subjective) with Namespaces\n",
    "- Gets irritating to use `std` in front of `cout` and `endl` to keep printing so we can use namespaces"
   ]
  },
  {
   "cell_type": "code",
   "execution_count": 5,
   "metadata": {},
   "outputs": [
    {
     "name": "stdout",
     "output_type": "stream",
     "text": [
      "No need for messy std::\n"
     ]
    }
   ],
   "source": [
    "using namespace std;\n",
    "cout << \"No need for messy std::\" << endl;"
   ]
  },
  {
   "cell_type": "markdown",
   "metadata": {},
   "source": [
    "## Functions"
   ]
  },
  {
   "cell_type": "markdown",
   "metadata": {},
   "source": [
    "### Simple Multiply Function"
   ]
  },
  {
   "cell_type": "code",
   "execution_count": 6,
   "metadata": {},
   "outputs": [],
   "source": [
    "// #include <iostream>\n",
    "// using namespace std;\n",
    "\n",
    "// int Multiply (int firstNum, int secondnNum)\n",
    "// {\n",
    "//     return (firstNum + secondNum);\n",
    "// }\n",
    "\n",
    "// int main()\n",
    "// {\n",
    "//     c=Multiply(2,3);\n",
    "//     cout << \"c value is \" << c;\n",
    "//     return 0\n",
    "// }"
   ]
  },
  {
   "cell_type": "code",
   "execution_count": 7,
   "metadata": {},
   "outputs": [],
   "source": [
    "void DrawTriangle(int numRows){\n",
    "    \n",
    "    for(int i = 1 ; i <= numRows; i++) {\n",
    "    //Print a field of spaces equal to the number of rows minus half the width of the triangle, plus 2 spaces\n",
    "    //between the row number and the triangle,\n",
    "    std::cout << std::setfill(' ') << std::setw(numRows - i + 2) << \" \";\n",
    "        \n",
    "    //Print a field of pipes equal to the number of row number*2 then subtract 1 to keep the width odd and centered.\n",
    "    std::cout << std::setfill('#') << std::setw((i * 2 - 1)) << \"#\";\n",
    "    std::cout << std::endl;\n",
    "    }\n",
    "    \n",
    "}"
   ]
  },
  {
   "cell_type": "code",
   "execution_count": 8,
   "metadata": {},
   "outputs": [
    {
     "name": "stdout",
     "output_type": "stream",
     "text": [
      "      #\n",
      "     ###\n",
      "    #####\n",
      "   #######\n",
      "  #########\n"
     ]
    }
   ],
   "source": [
    "DrawTriangle(5)"
   ]
  }
 ],
 "metadata": {
  "kernelspec": {
   "display_name": "C++17",
   "language": "C++17",
   "name": "cpp17"
  },
  "language_info": {
   "codemirror_mode": "text/x-c++src",
   "file_extension": ".cpp",
   "mimetype": "text/x-c++src",
   "name": "c++",
   "version": "-std=c++17"
  }
 },
 "nbformat": 4,
 "nbformat_minor": 2
}
