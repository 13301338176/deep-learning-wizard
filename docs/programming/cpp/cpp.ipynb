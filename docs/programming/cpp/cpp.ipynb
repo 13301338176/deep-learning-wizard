{
 "cells": [
  {
   "cell_type": "markdown",
   "metadata": {},
   "source": [
    "# C++\n",
    "\n",
    "!!! tip \"Run Jupyter Notebook\"\n",
    "    You can run the code for this section in this [jupyter notebook link](https://github.com/ritchieng/deep-learning-wizard/blob/master/docs/programming/cpp/cpp.ipynb)."
   ]
  },
  {
   "cell_type": "markdown",
   "metadata": {},
   "source": [
    "## Installation of Interactive C++17\n",
    "\n",
    "Xeus-Cling is a game-changer where similar to Python Jupyter Notebooks, we can run C++ Jupyter Notebooks now. Run the following bash commands in sequence to create a C++ kernel for Jupyter Notebook.\n",
    "\n",
    "```bash\n",
    "conda create -n cpp\n",
    "source activate cpp\n",
    "conda install -c conda-forge xeus-cling\n",
    "jupyter kernelspec install --user /home/ritchie/miniconda3/envs/cpp/share/jupyter/kernels/xcpp17\n",
    "jupyter notebook\n",
    "```"
   ]
  },
  {
   "cell_type": "markdown",
   "metadata": {},
   "source": [
    "## Printing"
   ]
  },
  {
   "cell_type": "markdown",
   "metadata": {},
   "source": [
    "### Printing Single Line"
   ]
  },
  {
   "cell_type": "code",
   "execution_count": 1,
   "metadata": {
    "collapsed": true
   },
   "outputs": [],
   "source": [
    "// When you compile, the preprocessor runs and acts on all line with the pound key first\n",
    "\n",
    "// This is a preprocessor instruction that\n",
    "// essentially places the file with the name iostream into this spot\n",
    "#include <iostream>"
   ]
  },
  {
   "cell_type": "code",
   "execution_count": 2,
   "metadata": {},
   "outputs": [
    {
     "name": "stdout",
     "output_type": "stream",
     "text": [
      "Using Xeus Cling\n"
     ]
    }
   ],
   "source": [
    "// Print one line\n",
    "std::cout << \"Using Xeus Cling\" << std::endl;"
   ]
  },
  {
   "cell_type": "markdown",
   "metadata": {},
   "source": [
    "### Printing 2 Lines"
   ]
  },
  {
   "cell_type": "code",
   "execution_count": 3,
   "metadata": {},
   "outputs": [
    {
     "name": "stdout",
     "output_type": "stream",
     "text": [
      "First Line \n",
      "Second Line\n"
     ]
    }
   ],
   "source": [
    "// Print two lines\n",
    "std::cout << \"First Line \\nSecond Line\" << std::endl;"
   ]
  },
  {
   "cell_type": "markdown",
   "metadata": {},
   "source": [
    "### Printing with Tabs"
   ]
  },
  {
   "cell_type": "code",
   "execution_count": 4,
   "metadata": {},
   "outputs": [
    {
     "name": "stdout",
     "output_type": "stream",
     "text": [
      "One hundred:\t100\n",
      "Two hundred:\t200\n",
      "Three hundred:\t300\n"
     ]
    }
   ],
   "source": [
    "// Print numbers with nicely formatted tabs\n",
    "std::cout << \"One hundred:\\t\";\n",
    "std::cout << (float) 1000/10 << std::endl;\n",
    "\n",
    "std::cout << \"Two hundred:\\t\";\n",
    "std::cout << (double) 2000/10 << std::endl;\n",
    "\n",
    "std::cout << \"Three hundred:\\t\";\n",
    "std::cout << (double) 3000/10 << std::endl;"
   ]
  },
  {
   "cell_type": "markdown",
   "metadata": {},
   "source": [
    "### Easier Printing (subjective) with Namespaces\n",
    "- Gets irritating to use `std` in front of `cout` and `endl` to keep printing so we can use namespaces"
   ]
  },
  {
   "cell_type": "code",
   "execution_count": 5,
   "metadata": {},
   "outputs": [
    {
     "name": "stdout",
     "output_type": "stream",
     "text": [
      "No need for messy std::\n"
     ]
    }
   ],
   "source": [
    "using namespace std;\n",
    "cout << \"No need for messy std::\" << endl;"
   ]
  },
  {
   "cell_type": "markdown",
   "metadata": {},
   "source": [
    "## Variables"
   ]
  },
  {
   "cell_type": "markdown",
   "metadata": {},
   "source": [
    "### General memory management\n",
    "In C++, you always need to determine each variable's type so the compiler will know how much memory (RAM) to allocate to the variable"
   ]
  },
  {
   "cell_type": "markdown",
   "metadata": {},
   "source": [
    "### Types of Variables\n",
    "| Type  |  Bytes (Size) | Range of Values|\n",
    "|-------|--------------|----------------|\n",
    "| char | 1 | 0 to 255 or -127 to 127|\n",
    "| unsigned char | 1 | -127 to 127 |\n",
    "| signed char | 1 | 0 to 255 |\n",
    "| bool | 1 | True or False |\n",
    "| int | 4 | -2,147,483,648 to 2,147,483,647 |\n",
    "| unsigned int | 4 | 0 to 4,294,967,295 |\n",
    "| signed int | 4 | -2,147,483,648 to 2,147,483,647 |\n",
    "| short int | 2 | -32,768 to 32,767 |\n",
    "| long int | 4 | -2,147,483,648 to 2,147,483,647 |\n",
    "| float | 4 | 3.4e-38 to 3.4e38 |\n",
    "| double | 8 | 1.7e-308 to 1.7e-08|\n",
    "| long double | 8 | 1.7e-308 to 1.7e-08|"
   ]
  },
  {
   "cell_type": "markdown",
   "metadata": {},
   "source": [
    "### Integer sizes\n",
    "- Typical sizes\n",
    "    - Short integer: 2 bytes (will be smaller than long)\n",
    "        - Limitation is that the value of this short integer has a max value, you should be cautious of using short integers\n",
    "    - Long integer: 4 bytes\n",
    "    - Integer: 2 or 4 bytes\n",
    "- Notes\n",
    "    - Technically these sizes can vary depending on your processor (32/64 bit) and compiler\n",
    "    - You should not assume the sizes but the hierarchy of sizes will not change (short memory < long memory)"
   ]
  },
  {
   "cell_type": "markdown",
   "metadata": {},
   "source": [
    "#### Integer size"
   ]
  },
  {
   "cell_type": "code",
   "execution_count": 6,
   "metadata": {},
   "outputs": [
    {
     "name": "stdout",
     "output_type": "stream",
     "text": [
      "Size of an integer: 4"
     ]
    }
   ],
   "source": [
    "cout << \"Size of an integer: \" << sizeof (int);"
   ]
  },
  {
   "cell_type": "markdown",
   "metadata": {},
   "source": [
    "#### Short integer size"
   ]
  },
  {
   "cell_type": "code",
   "execution_count": 7,
   "metadata": {},
   "outputs": [
    {
     "name": "stdout",
     "output_type": "stream",
     "text": [
      "Size of a short integer: 2"
     ]
    }
   ],
   "source": [
    "cout << \"Size of a short integer: \" << sizeof (short int);"
   ]
  },
  {
   "cell_type": "markdown",
   "metadata": {},
   "source": [
    "#### Long integer size"
   ]
  },
  {
   "cell_type": "code",
   "execution_count": 8,
   "metadata": {},
   "outputs": [
    {
     "name": "stdout",
     "output_type": "stream",
     "text": [
      "Size of an long integer: 8"
     ]
    }
   ],
   "source": [
    "cout << \"Size of an long integer: \" << sizeof (long int);"
   ]
  },
  {
   "cell_type": "markdown",
   "metadata": {},
   "source": [
    "### Unsigned or signed integers\n",
    "- Unsigned integers: only can hold positive integers\n",
    "- Signed integers: can hold positive/negative integers"
   ]
  },
  {
   "cell_type": "markdown",
   "metadata": {},
   "source": [
    "#### Signed short integer"
   ]
  },
  {
   "cell_type": "code",
   "execution_count": 9,
   "metadata": {},
   "outputs": [
    {
     "name": "stdout",
     "output_type": "stream",
     "text": [
      "Size of an signed short integer: 2"
     ]
    }
   ],
   "source": [
    "cout << \"Size of an signed short integer: \" << sizeof (signed short int);"
   ]
  },
  {
   "cell_type": "markdown",
   "metadata": {},
   "source": [
    "#### Unsigned short integer"
   ]
  },
  {
   "cell_type": "code",
   "execution_count": 10,
   "metadata": {},
   "outputs": [
    {
     "name": "stdout",
     "output_type": "stream",
     "text": [
      "Size of an unsigned short integer: 2"
     ]
    }
   ],
   "source": [
    "cout << \"Size of an unsigned short integer: \" << sizeof (unsigned short int);"
   ]
  },
  {
   "cell_type": "markdown",
   "metadata": {},
   "source": [
    "#### Signed long integer"
   ]
  },
  {
   "cell_type": "code",
   "execution_count": 11,
   "metadata": {},
   "outputs": [
    {
     "name": "stdout",
     "output_type": "stream",
     "text": [
      "Size of an signed long integer: 8"
     ]
    }
   ],
   "source": [
    "cout << \"Size of an signed long integer: \" << sizeof (signed long int);"
   ]
  },
  {
   "cell_type": "markdown",
   "metadata": {},
   "source": [
    "#### Unsigned long integer"
   ]
  },
  {
   "cell_type": "code",
   "execution_count": 12,
   "metadata": {},
   "outputs": [
    {
     "name": "stdout",
     "output_type": "stream",
     "text": [
      "Size of an unsigned long integer: 8"
     ]
    }
   ],
   "source": [
    "cout << \"Size of an unsigned long integer: \" << sizeof (unsigned long int);"
   ]
  },
  {
   "cell_type": "markdown",
   "metadata": {},
   "source": [
    "## Functions"
   ]
  },
  {
   "cell_type": "markdown",
   "metadata": {},
   "source": [
    "### Function Without Return Value"
   ]
  },
  {
   "cell_type": "code",
   "execution_count": 13,
   "metadata": {
    "scrolled": true
   },
   "outputs": [],
   "source": [
    "// Usage of void when the function does not return anything\n",
    "// In this exmaple, this function prints out the multiplication result of two given numbers\n",
    "void MultiplyTwoNumbers(int firstNum, int secondNum)\n",
    "{\n",
    "    // Define variable as integer type\n",
    "    long int value;\n",
    "    value = firstNum * secondNum;\n",
    "    std::cout << value << std::endl; \n",
    "}"
   ]
  },
  {
   "cell_type": "markdown",
   "metadata": {},
   "source": [
    "#### Multiply Two Numbers 3 and 2"
   ]
  },
  {
   "cell_type": "code",
   "execution_count": 14,
   "metadata": {},
   "outputs": [
    {
     "name": "stdout",
     "output_type": "stream",
     "text": [
      "6\n"
     ]
    }
   ],
   "source": [
    "MultiplyTwoNumbers(3, 2)"
   ]
  },
  {
   "cell_type": "markdown",
   "metadata": {},
   "source": [
    "#### Multiply Two Numbers 6 and 2"
   ]
  },
  {
   "cell_type": "code",
   "execution_count": 15,
   "metadata": {},
   "outputs": [
    {
     "name": "stdout",
     "output_type": "stream",
     "text": [
      "12\n"
     ]
    }
   ],
   "source": [
    "MultiplyTwoNumbers(6, 2)"
   ]
  },
  {
   "cell_type": "markdown",
   "metadata": {},
   "source": [
    "### Aliases Function\n",
    "\n",
    "Say we want the variable `value` to be of type `unsigned short int` such that it's 2 bytes and can hold 2x the range of values compared to just `short int`. We can use `typedef` as an alias.\n",
    "\n",
    "| Type  |  Bytes (Size) | Range of Values|\n",
    "|-------|--------------|----------------|\n",
    "| short int | 2 | -32,768 to 32,767 |\n",
    "| unsigned short int | 2 |  0 to 65,536 |"
   ]
  },
  {
   "cell_type": "code",
   "execution_count": 16,
   "metadata": {},
   "outputs": [],
   "source": [
    "// Usage of void when the function does not return anything\n",
    "// In this exmaple, this function prints out the multiplication result of two given numbers\n",
    "void MultiplyTwoNumbersWithAlias(int firstNum, int secondNum)\n",
    "{\n",
    "    // Using an alias\n",
    "    typedef unsigned short int ushortint;\n",
    "    // initializing value variable with ushortint type\n",
    "    ushortint value;\n",
    "    value = firstNum * secondNum;\n",
    "    std::cout << value << std::endl; \n",
    "}"
   ]
  },
  {
   "cell_type": "markdown",
   "metadata": {},
   "source": [
    "#### Multiply Two Numbers 10 and 10"
   ]
  },
  {
   "cell_type": "code",
   "execution_count": 17,
   "metadata": {},
   "outputs": [
    {
     "name": "stdout",
     "output_type": "stream",
     "text": [
      "100\n"
     ]
    }
   ],
   "source": [
    "MultiplyTwoNumbersWithAlias(10, 10)"
   ]
  },
  {
   "cell_type": "markdown",
   "metadata": {},
   "source": [
    "#### Multiply Two Numbers 1000 and 65"
   ]
  },
  {
   "cell_type": "code",
   "execution_count": 18,
   "metadata": {},
   "outputs": [
    {
     "name": "stdout",
     "output_type": "stream",
     "text": [
      "65000\n"
     ]
    }
   ],
   "source": [
    "MultiplyTwoNumbersWithAlias(1000, 65)"
   ]
  },
  {
   "cell_type": "markdown",
   "metadata": {},
   "source": [
    "#### Multiply Two Numbers 1000 and 67\n",
    "- Notice how you don't get 67,000? This is because our variable `value` of `ushortint` type can only hold values up to the integer 65,536.\n",
    "- What this returns is the remainder of 67,000 - 65,536 = 1464"
   ]
  },
  {
   "cell_type": "code",
   "execution_count": 19,
   "metadata": {},
   "outputs": [
    {
     "name": "stdout",
     "output_type": "stream",
     "text": [
      "1464\n"
     ]
    }
   ],
   "source": [
    "MultiplyTwoNumbersWithAlias(1000, 67)"
   ]
  },
  {
   "cell_type": "code",
   "execution_count": 20,
   "metadata": {
    "scrolled": true
   },
   "outputs": [
    {
     "name": "stdout",
     "output_type": "stream",
     "text": [
      "1464\n"
     ]
    }
   ],
   "source": [
    "std::cout << 67 * 1000 - 65536 << std::endl;"
   ]
  },
  {
   "cell_type": "markdown",
   "metadata": {},
   "source": [
    "###  Function with Return Value\n",
    "Unlike functions without return values where we use `void` to declare the function, here we use `int` to declare our function that returns values."
   ]
  },
  {
   "cell_type": "code",
   "execution_count": 21,
   "metadata": {},
   "outputs": [],
   "source": [
    "// In this exmaple, this function returns the value of the multiplication of two numbers\n",
    "int MultiplyTwoNumbersNoPrint(int firstNum, int secondNum)\n",
    "{\n",
    "    // Define variable as integer type\n",
    "    long int value;\n",
    "    value = firstNum * secondNum;\n",
    "    return value;\n",
    "}"
   ]
  },
  {
   "cell_type": "markdown",
   "metadata": {},
   "source": [
    "#### Call Function"
   ]
  },
  {
   "cell_type": "code",
   "execution_count": 22,
   "metadata": {},
   "outputs": [
    {
     "name": "stdout",
     "output_type": "stream",
     "text": [
      "20\n"
     ]
    }
   ],
   "source": [
    "// Declare variable with type\n",
    "long int returnValue;\n",
    "// Call function\n",
    "returnValue = MultiplyTwoNumbersNoPrint(10, 2);\n",
    "// Print variable\n",
    "std::cout << returnValue << std::endl;"
   ]
  },
  {
   "cell_type": "code",
   "execution_count": null,
   "metadata": {
    "collapsed": true
   },
   "outputs": [],
   "source": []
  },
  {
   "cell_type": "code",
   "execution_count": null,
   "metadata": {
    "collapsed": true
   },
   "outputs": [],
   "source": []
  },
  {
   "cell_type": "code",
   "execution_count": null,
   "metadata": {
    "collapsed": true
   },
   "outputs": [],
   "source": []
  },
  {
   "cell_type": "code",
   "execution_count": null,
   "metadata": {
    "collapsed": true
   },
   "outputs": [],
   "source": []
  }
 ],
 "metadata": {
  "kernelspec": {
   "display_name": "C++17",
   "language": "C++17",
   "name": "cpp17"
  },
  "language_info": {
   "codemirror_mode": "text/x-c++src",
   "file_extension": ".cpp",
   "mimetype": "text/x-c++src",
   "name": "c++",
   "version": "-std=c++17"
  }
 },
 "nbformat": 4,
 "nbformat_minor": 2
}
