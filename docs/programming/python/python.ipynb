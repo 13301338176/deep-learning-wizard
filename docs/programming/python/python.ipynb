{
 "cells": [
  {
   "cell_type": "markdown",
   "metadata": {},
   "source": [
    "# Python"
   ]
  },
  {
   "cell_type": "markdown",
   "metadata": {},
   "source": [
    "## Lists"
   ]
  },
  {
   "cell_type": "markdown",
   "metadata": {},
   "source": [
    "### Creating List: Manual Fill"
   ]
  },
  {
   "cell_type": "code",
   "execution_count": 11,
   "metadata": {},
   "outputs": [
    {
     "name": "stdout",
     "output_type": "stream",
     "text": [
      "[0, 1, 2, 3]\n"
     ]
    }
   ],
   "source": [
    "lst = [0, 1, 2 ,3]\n",
    "print(lst)"
   ]
  },
  {
   "cell_type": "markdown",
   "metadata": {},
   "source": [
    "### Creating List: List Comprehension"
   ]
  },
  {
   "cell_type": "code",
   "execution_count": 12,
   "metadata": {},
   "outputs": [
    {
     "name": "stdout",
     "output_type": "stream",
     "text": [
      "[0, 1, 2, 3]\n"
     ]
    }
   ],
   "source": [
    "lst = [i for i in range(4)]\n",
    "print(lst)"
   ]
  },
  {
   "cell_type": "markdown",
   "metadata": {},
   "source": [
    "### Joining List: Blanks"
   ]
  },
  {
   "cell_type": "code",
   "execution_count": 20,
   "metadata": {},
   "outputs": [
    {
     "name": "stdout",
     "output_type": "stream",
     "text": [
      "0 1 2 3\n"
     ]
    }
   ],
   "source": [
    "# To use .join(), your list needs to be of type string\n",
    "lst_to_string = list(map(str, lst))\n",
    "\n",
    "# Join the list of strings\n",
    "lst_join = ' '.join(lst_to_string)\n",
    "print(lst_join)"
   ]
  },
  {
   "cell_type": "markdown",
   "metadata": {},
   "source": [
    "### Joining List: Comma"
   ]
  },
  {
   "cell_type": "code",
   "execution_count": 21,
   "metadata": {},
   "outputs": [
    {
     "name": "stdout",
     "output_type": "stream",
     "text": [
      "0, 1, 2, 3\n"
     ]
    }
   ],
   "source": [
    "# Join the list of strings\n",
    "lst_join = ', '.join(lst_to_string)\n",
    "print(lst_join)"
   ]
  },
  {
   "cell_type": "markdown",
   "metadata": {},
   "source": [
    "## Lambda, map, filter, reduce"
   ]
  },
  {
   "cell_type": "markdown",
   "metadata": {},
   "source": [
    "### Lambda"
   ]
  },
  {
   "cell_type": "markdown",
   "metadata": {},
   "source": [
    "#### Add Function"
   ]
  },
  {
   "cell_type": "code",
   "execution_count": 1,
   "metadata": {},
   "outputs": [
    {
     "data": {
      "text/plain": [
       "5"
      ]
     },
     "execution_count": 1,
     "metadata": {},
     "output_type": "execute_result"
    }
   ],
   "source": [
    "add = lambda x, y: x + y\n",
    "add(2, 3)"
   ]
  },
  {
   "cell_type": "markdown",
   "metadata": {},
   "source": [
    "#### Multiply Function"
   ]
  },
  {
   "cell_type": "code",
   "execution_count": 2,
   "metadata": {},
   "outputs": [
    {
     "data": {
      "text/plain": [
       "6"
      ]
     },
     "execution_count": 2,
     "metadata": {},
     "output_type": "execute_result"
    }
   ],
   "source": [
    "multiply = lambda x, y: x * y \n",
    "multiply(2, 3)"
   ]
  },
  {
   "cell_type": "markdown",
   "metadata": {},
   "source": [
    "### Map"
   ]
  },
  {
   "cell_type": "markdown",
   "metadata": {},
   "source": [
    "#### Create List"
   ]
  },
  {
   "cell_type": "code",
   "execution_count": 3,
   "metadata": {},
   "outputs": [
    {
     "name": "stdout",
     "output_type": "stream",
     "text": [
      "[0, 1, 2, 3, 4, 5, 6, 7, 8, 9, 10]\n"
     ]
    }
   ],
   "source": [
    "lst = [i for i in range(11)]\n",
    "print(lst)"
   ]
  },
  {
   "cell_type": "markdown",
   "metadata": {},
   "source": [
    "#### Map Square Function to List"
   ]
  },
  {
   "cell_type": "code",
   "execution_count": 4,
   "metadata": {},
   "outputs": [
    {
     "name": "stdout",
     "output_type": "stream",
     "text": [
      "<map object at 0x7f9cd4399a58>\n",
      "[0, 1, 4, 9, 16, 25, 36, 49, 64, 81, 100]\n"
     ]
    }
   ],
   "source": [
    "square_element = map(lambda x: x**2, lst)\n",
    "\n",
    "# This gives you a map object\n",
    "print(square_element)\n",
    "\n",
    "# You need to explicitly return a list\n",
    "print(list(square_element))"
   ]
  },
  {
   "cell_type": "markdown",
   "metadata": {},
   "source": [
    "#### Create Multiple List"
   ]
  },
  {
   "cell_type": "code",
   "execution_count": 5,
   "metadata": {
    "collapsed": true
   },
   "outputs": [],
   "source": [
    "lst_1 = [1, 2, 3, 4]\n",
    "lst_2 = [2, 4, 6, 8]\n",
    "lst_3 = [3, 6, 9, 12]"
   ]
  },
  {
   "cell_type": "markdown",
   "metadata": {},
   "source": [
    "#### Map Add Function to Multiple Lists"
   ]
  },
  {
   "cell_type": "code",
   "execution_count": 6,
   "metadata": {},
   "outputs": [
    {
     "name": "stdout",
     "output_type": "stream",
     "text": [
      "[6, 12, 18, 24]\n"
     ]
    }
   ],
   "source": [
    "add_elements = map(lambda x, y, z : x + y + z, lst_1, lst_2, lst_3)\n",
    "print(list(add_elements))"
   ]
  },
  {
   "cell_type": "markdown",
   "metadata": {},
   "source": [
    "### Filter"
   ]
  },
  {
   "cell_type": "markdown",
   "metadata": {},
   "source": [
    "#### Create List"
   ]
  },
  {
   "cell_type": "code",
   "execution_count": 7,
   "metadata": {},
   "outputs": [
    {
     "name": "stdout",
     "output_type": "stream",
     "text": [
      "[0, 1, 2, 3, 4, 5, 6, 7, 8, 9]\n"
     ]
    }
   ],
   "source": [
    "lst = [i for i in range(10)]\n",
    "print(lst)"
   ]
  },
  {
   "cell_type": "markdown",
   "metadata": {},
   "source": [
    "#### Filter multiples of 3"
   ]
  },
  {
   "cell_type": "code",
   "execution_count": 8,
   "metadata": {},
   "outputs": [
    {
     "name": "stdout",
     "output_type": "stream",
     "text": [
      "[0, 3, 6, 9]\n"
     ]
    }
   ],
   "source": [
    "multiples_of_three = filter(lambda x: x % 3 == 0, lst)\n",
    "print(list(multiples_of_three))"
   ]
  },
  {
   "cell_type": "markdown",
   "metadata": {},
   "source": [
    "### Reduce\n",
    "The syntax is `reduce(function, sequence)`. The function is applied to the elements in the list in a sequential manner. Meaning if `lst = [1, 2, 3, 4]` and you have a sum function, you would arrive with `((1+2) + 3) + 4`."
   ]
  },
  {
   "cell_type": "code",
   "execution_count": 9,
   "metadata": {},
   "outputs": [
    {
     "name": "stdout",
     "output_type": "stream",
     "text": [
      "45\n",
      "45\n"
     ]
    }
   ],
   "source": [
    "from functools import reduce\n",
    "sum_all = reduce(lambda x, y: x + y, lst)\n",
    "# Here we've 1 + 2 + 3 + 4 + 5 + 6 + 7 + 8 + 9\n",
    "print(sum_all)\n",
    "print(1 + 2 + 3 + 4 + 5 + 6 + 7 + 8 + 9)"
   ]
  },
  {
   "cell_type": "markdown",
   "metadata": {},
   "source": [
    "## Decorators\n",
    "- This allows us to to modify our original function or even entirely replace it without changing the function's code. \n",
    "- It sounds mind-boggling, but a simple case I would like to illustrate here is using decorators for consistent logging (formatted print statements).\n",
    "- For us to understand decorators, we'll first need to understand:\n",
    "    - `first class objects`\n",
    "    - `*args`\n",
    "    - `*kwargs`"
   ]
  },
  {
   "cell_type": "markdown",
   "metadata": {},
   "source": [
    "### First Class Objects"
   ]
  },
  {
   "cell_type": "code",
   "execution_count": 6,
   "metadata": {},
   "outputs": [
    {
     "name": "stdout",
     "output_type": "stream",
     "text": [
      "Inside inner() function.\n"
     ]
    }
   ],
   "source": [
    "def outer():\n",
    "    def inner():\n",
    "        print('Inside inner() function.')\n",
    "        \n",
    "    # This returns a function.\n",
    "    return inner\n",
    "\n",
    "# Here, we are assigning `outer()` function to the object `call_outer`.\n",
    "call_outer = outer()\n",
    "\n",
    "# Then we call `call_outer()` \n",
    "call_outer()"
   ]
  },
  {
   "cell_type": "markdown",
   "metadata": {},
   "source": [
    "### *args\n",
    "-  This is used to indicate that positional arguments should be stored in the variable args\n",
    "- `*` is for iterables and positional parameters"
   ]
  },
  {
   "cell_type": "code",
   "execution_count": 8,
   "metadata": {},
   "outputs": [
    {
     "name": "stdout",
     "output_type": "stream",
     "text": [
      "(0, 1, 2, 3, 4, 5, 6, 7, 8, 9)\n",
      "(range(0, 10),)\n",
      "(0, 1)\n"
     ]
    }
   ],
   "source": [
    "# Define dummy function\n",
    "def dummy_func(*args):\n",
    "    print(args)\n",
    "    \n",
    "# * allows us to extract positional variables from an iterable when we are calling a function\n",
    "dummy_func(*range(10))\n",
    "\n",
    "# If we do not use *, this would happen\n",
    "dummy_func(range(10))\n",
    "\n",
    "# See how we can have varying arguments?\n",
    "dummy_func(*range(2))"
   ]
  },
  {
   "cell_type": "markdown",
   "metadata": {},
   "source": [
    "### **kwargs\n",
    "- `**` is for dictionaries & key/value pairs"
   ]
  },
  {
   "cell_type": "code",
   "execution_count": 20,
   "metadata": {},
   "outputs": [
    {
     "name": "stdout",
     "output_type": "stream",
     "text": [
      "{}\n",
      "{'a': 0, 'b': 1}\n",
      "{'a': 0, 'b': 1, 'c': 2}\n",
      "{'a': 0, 'b': 1, 'c': 2, 'd': 3}\n"
     ]
    }
   ],
   "source": [
    "# New dummy function\n",
    "def dummy_func_new(**kwargs):\n",
    "    print(kwargs)\n",
    "    \n",
    "# Call function with no arguments\n",
    "dummy_func_new()\n",
    "\n",
    "# Call function with 2 arguments\n",
    "dummy_func_new(a=0, b=1)\n",
    "\n",
    "# Again, there's no limit to the number of arguments.\n",
    "dummy_func_new(a=0, b=1, c=2)\n",
    "\n",
    "# Or we can just pass the whole dictionary object if we want\n",
    "new_dict = {'a': 0, 'b': 1, 'c': 2, 'd': 3}\n",
    "dummy_func_new(**new_dict)"
   ]
  },
  {
   "cell_type": "markdown",
   "metadata": {},
   "source": [
    "### Decorators as Logger and Debugging\n",
    "- A simple way to remember the power of decorators is that the decorator (the nested function illustrated below) can\n",
    "    - (1) access the passed arguments of the decorated function and\n",
    "    - (2) access the decorated function\n",
    "- Therefore this allows us to modify the decorated function without changing the decorated function"
   ]
  },
  {
   "cell_type": "code",
   "execution_count": 30,
   "metadata": {},
   "outputs": [
    {
     "name": "stdout",
     "output_type": "stream",
     "text": [
      "Function args: ()\n",
      "Function kwargs: {'num_one': 1, 'num_two': 2}\n",
      "Function return result: 2\n"
     ]
    }
   ],
   "source": [
    "# Create a nested function that will be our decorator\n",
    "def function_inspector(func):\n",
    "    def inner(*args, **kwargs):\n",
    "        result = func(*args, **kwargs)\n",
    "        print(f'Function args: {args}')\n",
    "        print(f'Function kwargs: {kwargs}')\n",
    "        print(f'Function return result: {result}')\n",
    "        return result\n",
    "    return inner\n",
    "\n",
    "# Decorate our multiply function with our logger for easy logging\n",
    "# Of arguments pass to the function and results returned\n",
    "@function_inspector\n",
    "def multiply_func(num_one, num_two):\n",
    "    return num_one * num_two\n",
    "\n",
    "multiply_result = multiply_func(num_one=1, num_two=2)"
   ]
  },
  {
   "cell_type": "markdown",
   "metadata": {},
   "source": [
    "## Dates"
   ]
  },
  {
   "cell_type": "markdown",
   "metadata": {},
   "source": [
    "### Get Current Date"
   ]
  },
  {
   "cell_type": "code",
   "execution_count": 10,
   "metadata": {},
   "outputs": [
    {
     "name": "stdout",
     "output_type": "stream",
     "text": [
      "2019-06-06 11:26:47.843927\n"
     ]
    }
   ],
   "source": [
    "import datetime\n",
    "now = datetime.datetime.now()\n",
    "print(now)"
   ]
  },
  {
   "cell_type": "markdown",
   "metadata": {},
   "source": [
    "### Get Clean String Current Date"
   ]
  },
  {
   "cell_type": "code",
   "execution_count": 11,
   "metadata": {},
   "outputs": [
    {
     "data": {
      "text/plain": [
       "'2019-06-06'"
      ]
     },
     "execution_count": 11,
     "metadata": {},
     "output_type": "execute_result"
    }
   ],
   "source": [
    "# YYYY-MM-DD\n",
    "now.date().strftime('20%y-%m-%d')"
   ]
  },
  {
   "cell_type": "markdown",
   "metadata": {},
   "source": [
    "### Count Business Days"
   ]
  },
  {
   "cell_type": "code",
   "execution_count": 12,
   "metadata": {},
   "outputs": [
    {
     "name": "stdout",
     "output_type": "stream",
     "text": [
      "23\n"
     ]
    }
   ],
   "source": [
    "# Number of business days in a month from Jan 2019 to Feb 2019\n",
    "import numpy as np\n",
    "days = np.busday_count('2019-01', '2019-02')\n",
    "print(days)"
   ]
  },
  {
   "cell_type": "markdown",
   "metadata": {},
   "source": [
    "## Progress Bars"
   ]
  },
  {
   "cell_type": "markdown",
   "metadata": {},
   "source": [
    "### TQDM\n",
    "Simple progress bar via `pip install tqdm`"
   ]
  },
  {
   "cell_type": "code",
   "execution_count": 13,
   "metadata": {},
   "outputs": [
    {
     "name": "stderr",
     "output_type": "stream",
     "text": [
      "100%|██████████| 100/100 [00:10<00:00,  9.86it/s]\n"
     ]
    }
   ],
   "source": [
    "from tqdm import tqdm\n",
    "import time\n",
    "for i in tqdm(range(100)):\n",
    "    time.sleep(0.1)\n",
    "    pass"
   ]
  },
  {
   "cell_type": "markdown",
   "metadata": {},
   "source": [
    "## Check Paths"
   ]
  },
  {
   "cell_type": "markdown",
   "metadata": {},
   "source": [
    "### Check Path Exists\n",
    "- Check if directory exists"
   ]
  },
  {
   "cell_type": "code",
   "execution_count": 17,
   "metadata": {},
   "outputs": [
    {
     "name": "stdout",
     "output_type": "stream",
     "text": [
      "False\n",
      "ls: cannot access '*/': No such file or directory\n"
     ]
    }
   ],
   "source": [
    "import os\n",
    "directory='new_dir'\n",
    "print(os.path.exists(directory))\n",
    "\n",
    "# Magic function to list all folders\n",
    "!ls -d */"
   ]
  },
  {
   "cell_type": "markdown",
   "metadata": {},
   "source": [
    "### Check Path Exists Otherwise Create Folder\n",
    "- Check if directory exists, otherwise make folder"
   ]
  },
  {
   "cell_type": "code",
   "execution_count": 18,
   "metadata": {},
   "outputs": [
    {
     "name": "stdout",
     "output_type": "stream",
     "text": [
      "new_dir/\r\n"
     ]
    }
   ],
   "source": [
    "if not os.path.exists(directory):\n",
    "    os.makedirs(directory)\n",
    "    \n",
    "# Magic function to list all folders\n",
    "!ls -d */\n",
    "\n",
    "# Remove directory\n",
    "!rmdir new_dir"
   ]
  },
  {
   "cell_type": "markdown",
   "metadata": {},
   "source": [
    "## Exception Handling"
   ]
  },
  {
   "cell_type": "markdown",
   "metadata": {},
   "source": [
    "### Try, Except, Finally: Error\n",
    "- This is very handy and often exploited to patch up (save) poorly written code\n",
    "- You can use general exceptions or specific ones like `ValueError`, `KeyboardInterrupt` and `MemoryError` to name a few"
   ]
  },
  {
   "cell_type": "code",
   "execution_count": 8,
   "metadata": {},
   "outputs": [
    {
     "name": "stdout",
     "output_type": "stream",
     "text": [
      "Code failed!\n",
      "Ran code block regardless of error or not.\n"
     ]
    }
   ],
   "source": [
    "value_one = 'a'\n",
    "value_two = 2\n",
    "\n",
    "# Try the following line of code\n",
    "try:\n",
    "    final_sum = value_one / value_two\n",
    "    print('Code passed!')\n",
    "# If the code above fails, code nested under except will be executed\n",
    "except:\n",
    "    print('Code failed!')\n",
    "# This will run no matter whether the nested code in try or except is executed\n",
    "finally:\n",
    "    print('Ran code block regardless of error or not.')"
   ]
  },
  {
   "cell_type": "markdown",
   "metadata": {},
   "source": [
    "### Try, Except, Finally: No Error\n",
    "- There won't be errors because you can divide 4 with 2"
   ]
  },
  {
   "cell_type": "code",
   "execution_count": 9,
   "metadata": {},
   "outputs": [
    {
     "name": "stdout",
     "output_type": "stream",
     "text": [
      "Code passed!\n",
      "Ran code block regardless of error or not.\n"
     ]
    }
   ],
   "source": [
    "value_one = 4\n",
    "value_two = 2\n",
    "\n",
    "# Try the following line of code\n",
    "try:\n",
    "    final_sum = value_one / value_two\n",
    "    print('Code passed!')\n",
    "# If the code above fails, code nested under except will be executed\n",
    "except:\n",
    "    print('Code failed!')\n",
    "# This will run no matter whether the nested code in try or except is executed\n",
    "finally:\n",
    "    print('Ran code block regardless of error or not.')"
   ]
  },
  {
   "cell_type": "markdown",
   "metadata": {},
   "source": [
    "## Asynchronous\n",
    "\n",
    "### Concurrency, Parallelism, Asynchronous\n",
    "- Concurrency (single CPU core): multiple threads on a single core running in **sequence**, only 1 thread is making progress at any point\n",
    "    - Think of 1 human, packing a box then wrapping the box\n",
    "- Parallelism (mutliple GPU cores): multiple threads on multiple cores running in **parallel**, multiple threads can be making progress\n",
    "    - Think of 2 humans, one packing a box, another wrapping the box\n",
    "- Asynchronous: concurrency but with a more dynamic system that moves amongst threads more efficiently rather than waiting for a task to finish then moving to the next task\n",
    "    - Python's `asyncio` allows us to code asynchronously\n",
    "    - Benefits:\n",
    "        - Scales better if you need to wait on a lot of processes\n",
    "            - Less memory (easier in this sense) to wait on thousands of co-routines than running on thousands of threads\n",
    "        - Good for IO bound uses like reading/saving from databases while subsequently running other computation\n",
    "        - Easier management than multi-thread processing like in parallel programming\n",
    "            - In the sense that everything operates sequentially in the same memory space"
   ]
  },
  {
   "cell_type": "markdown",
   "metadata": {
    "collapsed": true
   },
   "source": [
    "### Asynchronous Key Components\n",
    "- The three main parts are (1) coroutines and subroutines, (2) event loops, and (3) future.\n",
    "    - Co-routine and subroutines\n",
    "        - Subroutine: the usual function\n",
    "        - Coroutine: this allows us to maintain states with memory of where things stopped so we can swap amongst subroutines\n",
    "            - `async` declares a function as a coroutine\n",
    "            - `await` to call a coroutine\n",
    "    - Event loops\n",
    "    - Future"
   ]
  },
  {
   "cell_type": "markdown",
   "metadata": {},
   "source": [
    "### Synchronous 2 Function Calls"
   ]
  },
  {
   "cell_type": "code",
   "execution_count": 26,
   "metadata": {},
   "outputs": [
    {
     "name": "stdout",
     "output_type": "stream",
     "text": [
      "Adding\n",
      "Total sum 4\n",
      "Adding\n",
      "Total sum 4\n",
      "Total time 2.00s\n"
     ]
    }
   ],
   "source": [
    "def add_numbers(num_1, num_2):\n",
    "    print('Adding')\n",
    "    time.sleep(1)\n",
    "    return num_1 + num_2\n",
    "\n",
    "def display_sum(num_1, num_2):\n",
    "    total_sum = add_numbers(num_1, num_2)\n",
    "    print(f'Total sum {total_sum}')\n",
    "    \n",
    "def main():\n",
    "    display_sum(2, 2)\n",
    "    display_sum(2, 2)\n",
    "\n",
    "start = timeit.default_timer()\n",
    "\n",
    "main()\n",
    "\n",
    "end = timeit.default_timer()\n",
    "total_time = end - start\n",
    "\n",
    "print(f'Total time {total_time:.2f}s')"
   ]
  },
  {
   "cell_type": "markdown",
   "metadata": {},
   "source": [
    "### Parallel 2 Function Calls"
   ]
  },
  {
   "cell_type": "code",
   "execution_count": 46,
   "metadata": {},
   "outputs": [
    {
     "name": "stdout",
     "output_type": "stream",
     "text": [
      "Adding\n",
      "Adding\n",
      "Total sum 4\n",
      "Total sum 4\n",
      "Total time 1.12s\n"
     ]
    }
   ],
   "source": [
    "from multiprocessing import Pool\n",
    "from functools import partial\n",
    "\n",
    "start = timeit.default_timer()\n",
    "\n",
    "pool = Pool()\n",
    "result = pool.map(partial(display_sum, num_2=2), [2, 2]) \n",
    "\n",
    "end = timeit.default_timer()\n",
    "total_time = end - start\n",
    "\n",
    "print(f'Total time {total_time:.2f}s')"
   ]
  },
  {
   "cell_type": "markdown",
   "metadata": {},
   "source": [
    "### Asynchronous 2 Function Calls\n",
    "For this use case, it'll take half the time compared to a synchronous application and slightly faster than parallel application (although not always true for parallel except in this case)"
   ]
  },
  {
   "cell_type": "code",
   "execution_count": 49,
   "metadata": {
    "scrolled": true
   },
   "outputs": [
    {
     "name": "stdout",
     "output_type": "stream",
     "text": [
      "Adding\n",
      "Adding\n",
      "Total sum 4\n",
      "Total sum 4\n",
      "Total time 1.0008s\n"
     ]
    }
   ],
   "source": [
    "import asyncio\n",
    "import timeit\n",
    "import time\n",
    "    \n",
    "async def add_numbers(num_1, num_2):\n",
    "    print('Adding')\n",
    "    await asyncio.sleep(1)\n",
    "    return num_1 + num_2 \n",
    "\n",
    "async def display_sum(num_1, num_2):\n",
    "    total_sum = await add_numbers(num_1, num_2)\n",
    "    print(f'Total sum {total_sum}')\n",
    "    \n",
    "async def main():\n",
    "    # .gather allows us to group subroutines\n",
    "    await asyncio.gather(display_sum(2, 2), \n",
    "                         display_sum(2, 2))\n",
    "    \n",
    "start = timeit.default_timer()\n",
    "\n",
    "# For .ipynb, event loop already done\n",
    "await main()\n",
    "\n",
    "# For .py\n",
    "# asyncio.run(main())\n",
    "\n",
    "end = timeit.default_timer()\n",
    "total_time = end - start\n",
    "\n",
    "print(f'Total time {total_time:.4f}s')"
   ]
  },
  {
   "cell_type": "code",
   "execution_count": null,
   "metadata": {
    "collapsed": true
   },
   "outputs": [],
   "source": []
  }
 ],
 "metadata": {
  "kernelspec": {
   "display_name": "latest",
   "language": "python",
   "name": "latest"
  },
  "language_info": {
   "codemirror_mode": {
    "name": "ipython",
    "version": 3
   },
   "file_extension": ".py",
   "mimetype": "text/x-python",
   "name": "python",
   "nbconvert_exporter": "python",
   "pygments_lexer": "ipython3",
   "version": "3.7.1"
  }
 },
 "nbformat": 4,
 "nbformat_minor": 2
}
