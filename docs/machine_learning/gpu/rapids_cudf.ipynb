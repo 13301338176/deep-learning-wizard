{
  "nbformat": 4,
  "nbformat_minor": 0,
  "metadata": {
    "colab": {
      "name": "rapids_cudf.ipynb",
      "version": "0.3.2",
      "provenance": [],
      "collapsed_sections": []
    },
    "language_info": {
      "codemirror_mode": {
        "name": "ipython",
        "version": 3
      },
      "file_extension": ".py",
      "mimetype": "text/x-python",
      "name": "python",
      "nbconvert_exporter": "python",
      "pygments_lexer": "ipython3",
      "version": "3.7.1"
    },
    "kernelspec": {
      "name": "python3",
      "display_name": "Python 3"
    },
    "accelerator": "GPU"
  },
  "cells": [
    {
      "metadata": {
        "id": "0Ms5XU6GuMAx",
        "colab_type": "text"
      },
      "cell_type": "markdown",
      "source": [
        "# RAPIDS cuDF"
      ]
    },
    {
      "metadata": {
        "id": "b_CwupkkXa3L",
        "colab_type": "text"
      },
      "cell_type": "markdown",
      "source": [
        "!!! tip \"Run Jupyter Notebook\"\n",
        "    You can run the code for this section in this [jupyter notebook link](https://github.com/ritchieng/deep-learning-wizard/blob/master/docs/machine_learning/gpu/rapids_cudf.ipynb) on Google Colab. Simply copy the notebook into your Google Drive and run with Google Colab."
      ]
    },
    {
      "metadata": {
        "id": "FkC1RqNMYvwd",
        "colab_type": "text"
      },
      "cell_type": "markdown",
      "source": [
        "## Environment Setup"
      ]
    },
    {
      "metadata": {
        "id": "SCWF5rlsuvbj",
        "colab_type": "text"
      },
      "cell_type": "markdown",
      "source": [
        "### Check Version"
      ]
    },
    {
      "metadata": {
        "id": "tmiXIuf4Y4LR",
        "colab_type": "text"
      },
      "cell_type": "markdown",
      "source": [
        "#### Python Version"
      ]
    },
    {
      "metadata": {
        "id": "jtg8EVlRuxj7",
        "colab_type": "code",
        "outputId": "5cd8dd85-e6b7-4a9c-c700-b91d61bfb214",
        "colab": {
          "base_uri": "https://localhost:8080/",
          "height": 35
        }
      },
      "cell_type": "code",
      "source": [
        "# Check Python Version\n",
        "!python --version"
      ],
      "execution_count": 1,
      "outputs": [
        {
          "output_type": "stream",
          "text": [
            "Python 3.6.7\n"
          ],
          "name": "stdout"
        }
      ]
    },
    {
      "metadata": {
        "id": "EsDqrSm5Y6qM",
        "colab_type": "text"
      },
      "cell_type": "markdown",
      "source": [
        "#### Ubuntu Version"
      ]
    },
    {
      "metadata": {
        "id": "UYWxl68Quyv7",
        "colab_type": "code",
        "outputId": "26f36934-90d5-4e7f-f60a-1b8dbbc3ebd1",
        "colab": {
          "base_uri": "https://localhost:8080/",
          "height": 107
        }
      },
      "cell_type": "code",
      "source": [
        "# Check Ubuntu Version\n",
        "!lsb_release -a"
      ],
      "execution_count": 2,
      "outputs": [
        {
          "output_type": "stream",
          "text": [
            "No LSB modules are available.\n",
            "Distributor ID:\tUbuntu\n",
            "Description:\tUbuntu 18.04.2 LTS\n",
            "Release:\t18.04\n",
            "Codename:\tbionic\n"
          ],
          "name": "stdout"
        }
      ]
    },
    {
      "metadata": {
        "id": "H2WPSwsMY_XE",
        "colab_type": "text"
      },
      "cell_type": "markdown",
      "source": [
        "#### Check CUDA Version"
      ]
    },
    {
      "metadata": {
        "id": "eGAqqUlOuyXF",
        "colab_type": "code",
        "outputId": "3d9629b8-090a-4d77-a429-5b76f7463526",
        "colab": {
          "base_uri": "https://localhost:8080/",
          "height": 107
        }
      },
      "cell_type": "code",
      "source": [
        "# Check CUDA/cuDNN Version\n",
        "!nvcc -V && which nvcc"
      ],
      "execution_count": 3,
      "outputs": [
        {
          "output_type": "stream",
          "text": [
            "nvcc: NVIDIA (R) Cuda compiler driver\n",
            "Copyright (c) 2005-2018 NVIDIA Corporation\n",
            "Built on Sat_Aug_25_21:08:01_CDT_2018\n",
            "Cuda compilation tools, release 10.0, V10.0.130\n",
            "/usr/local/cuda/bin/nvcc\n"
          ],
          "name": "stdout"
        }
      ]
    },
    {
      "metadata": {
        "id": "QCr_TZjqZDve",
        "colab_type": "text"
      },
      "cell_type": "markdown",
      "source": [
        "#### Check GPU Version"
      ]
    },
    {
      "metadata": {
        "id": "nAj-Ie3nv-aM",
        "colab_type": "code",
        "outputId": "1ece0727-828e-43b7-fe9d-cec583076286",
        "colab": {
          "base_uri": "https://localhost:8080/",
          "height": 323
        }
      },
      "cell_type": "code",
      "source": [
        "# Check GPU\n",
        "!nvidia-smi"
      ],
      "execution_count": 4,
      "outputs": [
        {
          "output_type": "stream",
          "text": [
            "Wed Apr 24 07:41:30 2019       \n",
            "+-----------------------------------------------------------------------------+\n",
            "| NVIDIA-SMI 418.56       Driver Version: 410.79       CUDA Version: 10.0     |\n",
            "|-------------------------------+----------------------+----------------------+\n",
            "| GPU  Name        Persistence-M| Bus-Id        Disp.A | Volatile Uncorr. ECC |\n",
            "| Fan  Temp  Perf  Pwr:Usage/Cap|         Memory-Usage | GPU-Util  Compute M. |\n",
            "|===============================+======================+======================|\n",
            "|   0  Tesla T4            Off  | 00000000:00:04.0 Off |                    0 |\n",
            "| N/A   75C    P8    18W /  70W |      0MiB / 15079MiB |      0%      Default |\n",
            "+-------------------------------+----------------------+----------------------+\n",
            "                                                                               \n",
            "+-----------------------------------------------------------------------------+\n",
            "| Processes:                                                       GPU Memory |\n",
            "|  GPU       PID   Type   Process name                             Usage      |\n",
            "|=============================================================================|\n",
            "|  No running processes found                                                 |\n",
            "+-----------------------------------------------------------------------------+\n"
          ],
          "name": "stdout"
        }
      ]
    },
    {
      "metadata": {
        "id": "19gRLN_8uvEh",
        "colab_type": "text"
      },
      "cell_type": "markdown",
      "source": [
        "### Installation of cuDF/cuML"
      ]
    },
    {
      "metadata": {
        "id": "QI2814Dbur25",
        "colab_type": "code",
        "outputId": "9f85e186-ad06-41d8-a853-d563ad47a630",
        "colab": {
          "base_uri": "https://localhost:8080/",
          "height": 269
        }
      },
      "cell_type": "code",
      "source": [
        "!python -m pip install cudf-cuda100==0.6.1 cuml-cuda100==0.6.1"
      ],
      "execution_count": 5,
      "outputs": [
        {
          "output_type": "stream",
          "text": [
            "Requirement already satisfied: cudf-cuda100==0.6.1 in /usr/local/lib/python3.6/dist-packages (0.6.1)\n",
            "Requirement already satisfied: cuml-cuda100==0.6.1 in /usr/local/lib/python3.6/dist-packages (0.6.1)\n",
            "Requirement already satisfied: numpy>=1.14 in /usr/local/lib/python3.6/dist-packages (from cudf-cuda100==0.6.1) (1.16.2)\n",
            "Requirement already satisfied: numba<0.42,>=0.40.0 in /usr/local/lib/python3.6/dist-packages (from cudf-cuda100==0.6.1) (0.40.1)\n",
            "Requirement already satisfied: pyarrow==0.12.1 in /usr/local/lib/python3.6/dist-packages (from cudf-cuda100==0.6.1) (0.12.1)\n",
            "Requirement already satisfied: cffi>=1.0.0 in /usr/local/lib/python3.6/dist-packages (from cudf-cuda100==0.6.1) (1.12.3)\n",
            "Requirement already satisfied: pandas>=0.23.4 in /usr/local/lib/python3.6/dist-packages (from cudf-cuda100==0.6.1) (0.24.2)\n",
            "Requirement already satisfied: pycparser==2.19 in /usr/local/lib/python3.6/dist-packages (from cudf-cuda100==0.6.1) (2.19)\n",
            "Requirement already satisfied: nvstrings-cuda100 in /usr/local/lib/python3.6/dist-packages (from cudf-cuda100==0.6.1) (0.3.0.post1)\n",
            "Requirement already satisfied: cython<0.30,>=0.29 in /usr/local/lib/python3.6/dist-packages (from cudf-cuda100==0.6.1) (0.29.7)\n",
            "Requirement already satisfied: llvmlite>=0.25.0dev0 in /usr/local/lib/python3.6/dist-packages (from numba<0.42,>=0.40.0->cudf-cuda100==0.6.1) (0.28.0)\n",
            "Requirement already satisfied: six>=1.0.0 in /usr/local/lib/python3.6/dist-packages (from pyarrow==0.12.1->cudf-cuda100==0.6.1) (1.12.0)\n",
            "Requirement already satisfied: pytz>=2011k in /usr/local/lib/python3.6/dist-packages (from pandas>=0.23.4->cudf-cuda100==0.6.1) (2018.9)\n",
            "Requirement already satisfied: python-dateutil>=2.5.0 in /usr/local/lib/python3.6/dist-packages (from pandas>=0.23.4->cudf-cuda100==0.6.1) (2.5.3)\n"
          ],
          "name": "stdout"
        }
      ]
    },
    {
      "metadata": {
        "id": "KB6NMVT7ztR9",
        "colab_type": "text"
      },
      "cell_type": "markdown",
      "source": [
        "### Installation of NVIDIA Toolkit and Numba"
      ]
    },
    {
      "metadata": {
        "id": "zFjWp5hc1PPU",
        "colab_type": "code",
        "outputId": "11f4a4c7-2cd0-4830-99a6-18f8fd815652",
        "colab": {
          "base_uri": "https://localhost:8080/",
          "height": 215
        }
      },
      "cell_type": "code",
      "source": [
        "# Install CUDA toolkit\n",
        "!apt install -y --no-install-recommends -q nvidia-cuda-toolkit\n",
        "!pip install numba\n",
        "\n",
        "import os\n",
        "os.environ['NUMBAPRO_LIBDEVICE'] = \"/usr/lib/nvidia-cuda-toolkit/libdevice\"\n",
        "os.environ['NUMBAPRO_NVVM'] = \"/usr/lib/x86_64-linux-gnu/libnvvm.so\""
      ],
      "execution_count": 6,
      "outputs": [
        {
          "output_type": "stream",
          "text": [
            "Reading package lists...\n",
            "Building dependency tree...\n",
            "Reading state information...\n",
            "nvidia-cuda-toolkit is already the newest version (9.1.85-3ubuntu1).\n",
            "The following package was automatically installed and is no longer required:\n",
            "  libnvidia-common-410\n",
            "Use 'apt autoremove' to remove it.\n",
            "0 upgraded, 0 newly installed, 0 to remove and 6 not upgraded.\n",
            "Requirement already satisfied: numba in /usr/local/lib/python3.6/dist-packages (0.40.1)\n",
            "Requirement already satisfied: llvmlite>=0.25.0dev0 in /usr/local/lib/python3.6/dist-packages (from numba) (0.28.0)\n",
            "Requirement already satisfied: numpy in /usr/local/lib/python3.6/dist-packages (from numba) (1.16.2)\n"
          ],
          "name": "stdout"
        }
      ]
    },
    {
      "metadata": {
        "id": "fweFyNRw00So",
        "colab_type": "text"
      },
      "cell_type": "markdown",
      "source": [
        "## Critical Imports"
      ]
    },
    {
      "metadata": {
        "id": "hUagBPMOuMAy",
        "colab_type": "code",
        "colab": {}
      },
      "cell_type": "code",
      "source": [
        "# Critical imports\n",
        "import os\n",
        "import numpy as np\n",
        "import pandas as pd\n",
        "import cudf"
      ],
      "execution_count": 0,
      "outputs": []
    },
    {
      "metadata": {
        "id": "744SJmhKZVxM",
        "colab_type": "text"
      },
      "cell_type": "markdown",
      "source": [
        "## DataFrame Operations"
      ]
    },
    {
      "metadata": {
        "id": "47BX3RCquMA3",
        "colab_type": "code",
        "outputId": "05291525-a8ab-4569-f425-860e662d1efe",
        "colab": {
          "base_uri": "https://localhost:8080/",
          "height": 161
        }
      },
      "cell_type": "code",
      "source": [
        "df = cudf.Series([1, 2, 3, 4, 5, 6])\n",
        "print(df)\n",
        "print(type(df))"
      ],
      "execution_count": 8,
      "outputs": [
        {
          "output_type": "stream",
          "text": [
            "0    1\n",
            "1    2\n",
            "2    3\n",
            "3    4\n",
            "4    5\n",
            "5    6\n",
            "dtype: int64\n",
            "<class 'cudf.dataframe.series.Series'>\n"
          ],
          "name": "stdout"
        }
      ]
    },
    {
      "metadata": {
        "id": "Z1ALZGBiuMBD",
        "colab_type": "text"
      },
      "cell_type": "markdown",
      "source": [
        "### Create a single column dataframe of floats"
      ]
    },
    {
      "metadata": {
        "id": "XzyOT3TwuMBD",
        "colab_type": "code",
        "outputId": "e8d35447-d6a9-4bc8-bde3-b283b8022cf4",
        "colab": {
          "base_uri": "https://localhost:8080/",
          "height": 143
        }
      },
      "cell_type": "code",
      "source": [
        "df = cudf.Series([1., 2., 3., 4., 5., 6.])\n",
        "print(df)"
      ],
      "execution_count": 9,
      "outputs": [
        {
          "output_type": "stream",
          "text": [
            "0    1.0\n",
            "1    2.0\n",
            "2    3.0\n",
            "3    4.0\n",
            "4    5.0\n",
            "5    6.0\n",
            "dtype: float64\n"
          ],
          "name": "stdout"
        }
      ]
    },
    {
      "metadata": {
        "id": "XIdFWUHguMBK",
        "colab_type": "text"
      },
      "cell_type": "markdown",
      "source": [
        "### Create three column dataframe of dates, integers and floats"
      ]
    },
    {
      "metadata": {
        "id": "25v_tf7DuMBL",
        "colab_type": "code",
        "outputId": "1c6e1e2b-e929-4751-9b67-17b0e9fbdd4a",
        "colab": {
          "base_uri": "https://localhost:8080/",
          "height": 215
        }
      },
      "cell_type": "code",
      "source": [
        "# Import\n",
        "import datetime as dt\n",
        "\n",
        "# Create blank cudf dataframe\n",
        "df = cudf.DataFrame()\n",
        "\n",
        "# Create 10 busindates ess from 1st January 2019 via pandas\n",
        "df['dates'] = pd.date_range('1/1/2019', periods=10, freq='B')\n",
        "\n",
        "# Integers\n",
        "df['integers'] = [i for i in range(10)]\n",
        "\n",
        "# Floats\n",
        "df['floats'] = [float(i) for i in range(10)]\n",
        "\n",
        "# Print dataframe\n",
        "print(df)"
      ],
      "execution_count": 10,
      "outputs": [
        {
          "output_type": "stream",
          "text": [
            "                     dates  integers  floats\n",
            "0 2019-01-01T00:00:00.000         0     0.0\n",
            "1 2019-01-02T00:00:00.000         1     1.0\n",
            "2 2019-01-03T00:00:00.000         2     2.0\n",
            "3 2019-01-04T00:00:00.000         3     3.0\n",
            "4 2019-01-07T00:00:00.000         4     4.0\n",
            "5 2019-01-08T00:00:00.000         5     5.0\n",
            "6 2019-01-09T00:00:00.000         6     6.0\n",
            "7 2019-01-10T00:00:00.000         7     7.0\n",
            "8 2019-01-11T00:00:00.000         8     8.0\n",
            "9 2019-01-14T00:00:00.000         9     9.0\n"
          ],
          "name": "stdout"
        }
      ]
    },
    {
      "metadata": {
        "id": "UXu3dJKLuMBj",
        "colab_type": "text"
      },
      "cell_type": "markdown",
      "source": [
        "### Create a dataframe of alphabets a, b and c (strings)"
      ]
    },
    {
      "metadata": {
        "id": "72WzdwEDuMBk",
        "colab_type": "code",
        "outputId": "5cbfbd97-e80a-4699-b2c6-60cc4f1832c3",
        "colab": {
          "base_uri": "https://localhost:8080/",
          "height": 89
        }
      },
      "cell_type": "code",
      "source": [
        "s = cudf.Series(['a', 'b', 'c'])\n",
        "print(s)"
      ],
      "execution_count": 11,
      "outputs": [
        {
          "output_type": "stream",
          "text": [
            "0    a\n",
            "1    b\n",
            "2    c\n",
            "dtype: object\n"
          ],
          "name": "stdout"
        }
      ]
    },
    {
      "metadata": {
        "id": "QZ0vAkRMuMBq",
        "colab_type": "text"
      },
      "cell_type": "markdown",
      "source": [
        "### Create a 2 Column Dataframe of integers and string category\n",
        "- For all string columns, you must convert them to type `category` for filtering functions to work intuitively (for now)"
      ]
    },
    {
      "metadata": {
        "id": "NfazAxmeuMBr",
        "colab_type": "code",
        "outputId": "611dd4db-e217-4a59-a015-ad0b46223e8e",
        "colab": {
          "base_uri": "https://localhost:8080/",
          "height": 107
        }
      },
      "cell_type": "code",
      "source": [
        "# Create pandas dataframe\n",
        "pandas_df = pd.DataFrame({\n",
        "    'integers': [1, 2, 3, 4], \n",
        "    'strings': ['a', 'b', 'c', 'd']\n",
        "})\n",
        "\n",
        "# Convert string column to category format\n",
        "pandas_df['strings'] = pandas_df['strings'].astype('category')\n",
        "\n",
        "# Bridge from pandas to cudf\n",
        "df = cudf.DataFrame.from_pandas(pandas_df)\n",
        "\n",
        "# Print dataframe\n",
        "print(df)"
      ],
      "execution_count": 12,
      "outputs": [
        {
          "output_type": "stream",
          "text": [
            "   integers  strings\n",
            "0         1        a\n",
            "1         2        b\n",
            "2         3        c\n",
            "3         4        d\n"
          ],
          "name": "stdout"
        }
      ]
    },
    {
      "metadata": {
        "id": "jhcu9eJeuMBv",
        "colab_type": "text"
      },
      "cell_type": "markdown",
      "source": [
        "### Printing Column Names"
      ]
    },
    {
      "metadata": {
        "id": "hyFl4bVIuMBw",
        "colab_type": "code",
        "outputId": "44290dc7-55b1-425f-e6ea-2bfbfb57e679",
        "colab": {
          "base_uri": "https://localhost:8080/",
          "height": 35
        }
      },
      "cell_type": "code",
      "source": [
        "df.columns"
      ],
      "execution_count": 13,
      "outputs": [
        {
          "output_type": "execute_result",
          "data": {
            "text/plain": [
              "Index(['integers', 'strings'], dtype='object')"
            ]
          },
          "metadata": {
            "tags": []
          },
          "execution_count": 13
        }
      ]
    },
    {
      "metadata": {
        "id": "3GvIGth-K_ng",
        "colab_type": "text"
      },
      "cell_type": "markdown",
      "source": [
        "### Filtering Integers/Floats by Column Values (Method 1\n",
        "- This only works for floats and integers, not for strings"
      ]
    },
    {
      "metadata": {
        "id": "y6PBAQasLYfi",
        "colab_type": "code",
        "outputId": "24c89e84-a1f2-458d-8cb4-4cfcc885d6d1",
        "colab": {
          "base_uri": "https://localhost:8080/",
          "height": 53
        }
      },
      "cell_type": "code",
      "source": [
        "print(df.query('integers == 1'))"
      ],
      "execution_count": 14,
      "outputs": [
        {
          "output_type": "stream",
          "text": [
            "   integers  strings\n",
            "0         1        a\n"
          ],
          "name": "stdout"
        }
      ]
    },
    {
      "metadata": {
        "id": "YZx6HN1AL3BD",
        "colab_type": "text"
      },
      "cell_type": "markdown",
      "source": [
        "### Filtering Strings by Column Values (Method 1)"
      ]
    },
    {
      "metadata": {
        "id": "QEtFUprCMCBB",
        "colab_type": "code",
        "outputId": "34a72bb7-72f7-4bff-90d4-07d47eb6b07f",
        "colab": {
          "base_uri": "https://localhost:8080/",
          "height": 322
        }
      },
      "cell_type": "code",
      "source": [
        "print(df.query('strings == a'))"
      ],
      "execution_count": 15,
      "outputs": [
        {
          "output_type": "error",
          "ename": "KeyError",
          "evalue": "ignored",
          "traceback": [
            "\u001b[0;31m---------------------------------------------------------------------------\u001b[0m",
            "\u001b[0;31mKeyError\u001b[0m                                  Traceback (most recent call last)",
            "\u001b[0;32m<ipython-input-15-8bd9757c1b26>\u001b[0m in \u001b[0;36m<module>\u001b[0;34m()\u001b[0m\n\u001b[0;32m----> 1\u001b[0;31m \u001b[0mprint\u001b[0m\u001b[0;34m(\u001b[0m\u001b[0mdf\u001b[0m\u001b[0;34m.\u001b[0m\u001b[0mquery\u001b[0m\u001b[0;34m(\u001b[0m\u001b[0;34m'strings == a'\u001b[0m\u001b[0;34m)\u001b[0m\u001b[0;34m)\u001b[0m\u001b[0;34m\u001b[0m\u001b[0;34m\u001b[0m\u001b[0m\n\u001b[0m",
            "\u001b[0;32m/usr/local/lib/python3.6/dist-packages/cudf/dataframe/dataframe.py\u001b[0m in \u001b[0;36mquery\u001b[0;34m(self, expr)\u001b[0m\n\u001b[1;32m   1787\u001b[0m         }\n\u001b[1;32m   1788\u001b[0m         \u001b[0;31m# Run query\u001b[0m\u001b[0;34m\u001b[0m\u001b[0;34m\u001b[0m\u001b[0;34m\u001b[0m\u001b[0m\n\u001b[0;32m-> 1789\u001b[0;31m         \u001b[0mboolmask\u001b[0m \u001b[0;34m=\u001b[0m \u001b[0mqueryutils\u001b[0m\u001b[0;34m.\u001b[0m\u001b[0mquery_execute\u001b[0m\u001b[0;34m(\u001b[0m\u001b[0mself\u001b[0m\u001b[0;34m,\u001b[0m \u001b[0mexpr\u001b[0m\u001b[0;34m,\u001b[0m \u001b[0mcallenv\u001b[0m\u001b[0;34m)\u001b[0m\u001b[0;34m\u001b[0m\u001b[0;34m\u001b[0m\u001b[0m\n\u001b[0m\u001b[1;32m   1790\u001b[0m \u001b[0;34m\u001b[0m\u001b[0m\n\u001b[1;32m   1791\u001b[0m         \u001b[0mselected\u001b[0m \u001b[0;34m=\u001b[0m \u001b[0mSeries\u001b[0m\u001b[0;34m(\u001b[0m\u001b[0mboolmask\u001b[0m\u001b[0;34m)\u001b[0m\u001b[0;34m\u001b[0m\u001b[0;34m\u001b[0m\u001b[0m\n",
            "\u001b[0;32m/usr/local/lib/python3.6/dist-packages/cudf/utils/queryutils.py\u001b[0m in \u001b[0;36mquery_execute\u001b[0;34m(df, expr, callenv)\u001b[0m\n\u001b[1;32m    214\u001b[0m             \u001b[0menvargs\u001b[0m\u001b[0;34m.\u001b[0m\u001b[0mappend\u001b[0m\u001b[0;34m(\u001b[0m\u001b[0mval\u001b[0m\u001b[0;34m)\u001b[0m\u001b[0;34m\u001b[0m\u001b[0;34m\u001b[0m\u001b[0m\n\u001b[1;32m    215\u001b[0m     \u001b[0;31m# prepare col args\u001b[0m\u001b[0;34m\u001b[0m\u001b[0;34m\u001b[0m\u001b[0;34m\u001b[0m\u001b[0m\n\u001b[0;32m--> 216\u001b[0;31m     \u001b[0mcolarrays\u001b[0m \u001b[0;34m=\u001b[0m \u001b[0;34m[\u001b[0m\u001b[0mdf\u001b[0m\u001b[0;34m[\u001b[0m\u001b[0mcol\u001b[0m\u001b[0;34m]\u001b[0m\u001b[0;34m.\u001b[0m\u001b[0mto_gpu_array\u001b[0m\u001b[0;34m(\u001b[0m\u001b[0;34m)\u001b[0m \u001b[0;32mfor\u001b[0m \u001b[0mcol\u001b[0m \u001b[0;32min\u001b[0m \u001b[0mcompiled\u001b[0m\u001b[0;34m[\u001b[0m\u001b[0;34m'colnames'\u001b[0m\u001b[0;34m]\u001b[0m\u001b[0;34m]\u001b[0m\u001b[0;34m\u001b[0m\u001b[0;34m\u001b[0m\u001b[0m\n\u001b[0m\u001b[1;32m    217\u001b[0m     \u001b[0;31m# allocate output buffer\u001b[0m\u001b[0;34m\u001b[0m\u001b[0;34m\u001b[0m\u001b[0;34m\u001b[0m\u001b[0m\n\u001b[1;32m    218\u001b[0m     \u001b[0mnrows\u001b[0m \u001b[0;34m=\u001b[0m \u001b[0mlen\u001b[0m\u001b[0;34m(\u001b[0m\u001b[0mdf\u001b[0m\u001b[0;34m)\u001b[0m\u001b[0;34m\u001b[0m\u001b[0;34m\u001b[0m\u001b[0m\n",
            "\u001b[0;32m/usr/local/lib/python3.6/dist-packages/cudf/utils/queryutils.py\u001b[0m in \u001b[0;36m<listcomp>\u001b[0;34m(.0)\u001b[0m\n\u001b[1;32m    214\u001b[0m             \u001b[0menvargs\u001b[0m\u001b[0;34m.\u001b[0m\u001b[0mappend\u001b[0m\u001b[0;34m(\u001b[0m\u001b[0mval\u001b[0m\u001b[0;34m)\u001b[0m\u001b[0;34m\u001b[0m\u001b[0;34m\u001b[0m\u001b[0m\n\u001b[1;32m    215\u001b[0m     \u001b[0;31m# prepare col args\u001b[0m\u001b[0;34m\u001b[0m\u001b[0;34m\u001b[0m\u001b[0;34m\u001b[0m\u001b[0m\n\u001b[0;32m--> 216\u001b[0;31m     \u001b[0mcolarrays\u001b[0m \u001b[0;34m=\u001b[0m \u001b[0;34m[\u001b[0m\u001b[0mdf\u001b[0m\u001b[0;34m[\u001b[0m\u001b[0mcol\u001b[0m\u001b[0;34m]\u001b[0m\u001b[0;34m.\u001b[0m\u001b[0mto_gpu_array\u001b[0m\u001b[0;34m(\u001b[0m\u001b[0;34m)\u001b[0m \u001b[0;32mfor\u001b[0m \u001b[0mcol\u001b[0m \u001b[0;32min\u001b[0m \u001b[0mcompiled\u001b[0m\u001b[0;34m[\u001b[0m\u001b[0;34m'colnames'\u001b[0m\u001b[0;34m]\u001b[0m\u001b[0;34m]\u001b[0m\u001b[0;34m\u001b[0m\u001b[0;34m\u001b[0m\u001b[0m\n\u001b[0m\u001b[1;32m    217\u001b[0m     \u001b[0;31m# allocate output buffer\u001b[0m\u001b[0;34m\u001b[0m\u001b[0;34m\u001b[0m\u001b[0;34m\u001b[0m\u001b[0m\n\u001b[1;32m    218\u001b[0m     \u001b[0mnrows\u001b[0m \u001b[0;34m=\u001b[0m \u001b[0mlen\u001b[0m\u001b[0;34m(\u001b[0m\u001b[0mdf\u001b[0m\u001b[0;34m)\u001b[0m\u001b[0;34m\u001b[0m\u001b[0;34m\u001b[0m\u001b[0m\n",
            "\u001b[0;32m/usr/local/lib/python3.6/dist-packages/cudf/dataframe/dataframe.py\u001b[0m in \u001b[0;36m__getitem__\u001b[0;34m(self, arg)\u001b[0m\n\u001b[1;32m    212\u001b[0m         \u001b[0;32mif\u001b[0m \u001b[0misinstance\u001b[0m\u001b[0;34m(\u001b[0m\u001b[0marg\u001b[0m\u001b[0;34m,\u001b[0m \u001b[0mstr\u001b[0m\u001b[0;34m)\u001b[0m \u001b[0;32mor\u001b[0m \u001b[0misinstance\u001b[0m\u001b[0;34m(\u001b[0m\u001b[0marg\u001b[0m\u001b[0;34m,\u001b[0m \u001b[0mnumbers\u001b[0m\u001b[0;34m.\u001b[0m\u001b[0mIntegral\u001b[0m\u001b[0;34m)\u001b[0m \u001b[0;32mor\u001b[0m\u001b[0;31m \u001b[0m\u001b[0;31m\\\u001b[0m\u001b[0;34m\u001b[0m\u001b[0;34m\u001b[0m\u001b[0m\n\u001b[1;32m    213\u001b[0m            \u001b[0misinstance\u001b[0m\u001b[0;34m(\u001b[0m\u001b[0marg\u001b[0m\u001b[0;34m,\u001b[0m \u001b[0mtuple\u001b[0m\u001b[0;34m)\u001b[0m\u001b[0;34m:\u001b[0m\u001b[0;34m\u001b[0m\u001b[0;34m\u001b[0m\u001b[0m\n\u001b[0;32m--> 214\u001b[0;31m             \u001b[0ms\u001b[0m \u001b[0;34m=\u001b[0m \u001b[0mself\u001b[0m\u001b[0;34m.\u001b[0m\u001b[0m_cols\u001b[0m\u001b[0;34m[\u001b[0m\u001b[0marg\u001b[0m\u001b[0;34m]\u001b[0m\u001b[0;34m\u001b[0m\u001b[0;34m\u001b[0m\u001b[0m\n\u001b[0m\u001b[1;32m    215\u001b[0m             \u001b[0ms\u001b[0m\u001b[0;34m.\u001b[0m\u001b[0mname\u001b[0m \u001b[0;34m=\u001b[0m \u001b[0marg\u001b[0m\u001b[0;34m\u001b[0m\u001b[0;34m\u001b[0m\u001b[0m\n\u001b[1;32m    216\u001b[0m             \u001b[0;32mreturn\u001b[0m \u001b[0ms\u001b[0m\u001b[0;34m\u001b[0m\u001b[0;34m\u001b[0m\u001b[0m\n",
            "\u001b[0;31mKeyError\u001b[0m: 'a'"
          ]
        }
      ]
    },
    {
      "metadata": {
        "id": "Uay_v7yYMeH4",
        "colab_type": "text"
      },
      "cell_type": "markdown",
      "source": [
        "### Filtering Strings by Column Values (Method 2)\n"
      ]
    },
    {
      "metadata": {
        "id": "152skbpUuMB0",
        "colab_type": "code",
        "outputId": "d80e05bc-af29-4810-e67c-35ddeed0820d",
        "colab": {
          "base_uri": "https://localhost:8080/",
          "height": 53
        }
      },
      "cell_type": "code",
      "source": [
        "# Filtering based on the string column\n",
        "print(df[df.strings == 'b'])"
      ],
      "execution_count": 16,
      "outputs": [
        {
          "output_type": "stream",
          "text": [
            "   integers  strings\n",
            "1         2        b\n"
          ],
          "name": "stdout"
        }
      ]
    },
    {
      "metadata": {
        "id": "7pttT0CeuMB-",
        "colab_type": "text"
      },
      "cell_type": "markdown",
      "source": [
        "### Filtering Integers/Floats by Column Values (Method 2)"
      ]
    },
    {
      "metadata": {
        "id": "RA8I5SrbzXGo",
        "colab_type": "code",
        "outputId": "f45b2b4f-e25c-403e-ff0f-ae187c48447f",
        "colab": {
          "base_uri": "https://localhost:8080/",
          "height": 53
        }
      },
      "cell_type": "code",
      "source": [
        "# Filtering based on the string column\n",
        "print(df[df.integers == 2])"
      ],
      "execution_count": 17,
      "outputs": [
        {
          "output_type": "stream",
          "text": [
            "   integers  strings\n",
            "1         2        b\n"
          ],
          "name": "stdout"
        }
      ]
    },
    {
      "metadata": {
        "id": "jzhuHyorZPJz",
        "colab_type": "code",
        "colab": {}
      },
      "cell_type": "code",
      "source": [
        ""
      ],
      "execution_count": 0,
      "outputs": []
    },
    {
      "metadata": {
        "id": "PwKbmqFFLXcd",
        "colab_type": "code",
        "colab": {}
      },
      "cell_type": "code",
      "source": [
        ""
      ],
      "execution_count": 0,
      "outputs": []
    },
    {
      "metadata": {
        "id": "72YdwZ4xLX-d",
        "colab_type": "code",
        "colab": {}
      },
      "cell_type": "code",
      "source": [
        ""
      ],
      "execution_count": 0,
      "outputs": []
    },
    {
      "metadata": {
        "id": "nAzbjknrMBgg",
        "colab_type": "code",
        "colab": {}
      },
      "cell_type": "code",
      "source": [
        ""
      ],
      "execution_count": 0,
      "outputs": []
    }
  ]
}