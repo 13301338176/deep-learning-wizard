{
  "nbformat": 4,
  "nbformat_minor": 0,
  "metadata": {
    "colab": {
      "name": "rapids_cudf.ipynb",
      "version": "0.3.2",
      "provenance": [],
      "collapsed_sections": []
    },
    "language_info": {
      "codemirror_mode": {
        "name": "ipython",
        "version": 3
      },
      "file_extension": ".py",
      "mimetype": "text/x-python",
      "name": "python",
      "nbconvert_exporter": "python",
      "pygments_lexer": "ipython3",
      "version": "3.7.1"
    },
    "kernelspec": {
      "name": "python3",
      "display_name": "Python 3"
    },
    "accelerator": "GPU"
  },
  "cells": [
    {
      "cell_type": "markdown",
      "metadata": {
        "id": "0Ms5XU6GuMAx",
        "colab_type": "text"
      },
      "source": [
        "# RAPIDS cuDF"
      ]
    },
    {
      "cell_type": "markdown",
      "metadata": {
        "id": "b_CwupkkXa3L",
        "colab_type": "text"
      },
      "source": [
        "!!! tip \"Run Jupyter Notebook\"\n",
        "    You can run the code for this section in this [jupyter notebook link](https://github.com/ritchieng/deep-learning-wizard/blob/master/docs/machine_learning/gpu/rapids_cudf.ipynb) on Google Colab. Simply copy the notebook into your Google Drive and run with Google Colab."
      ]
    },
    {
      "cell_type": "markdown",
      "metadata": {
        "id": "FkC1RqNMYvwd",
        "colab_type": "text"
      },
      "source": [
        "## Environment Setup"
      ]
    },
    {
      "cell_type": "markdown",
      "metadata": {
        "id": "SCWF5rlsuvbj",
        "colab_type": "text"
      },
      "source": [
        "### Check Version"
      ]
    },
    {
      "cell_type": "markdown",
      "metadata": {
        "id": "tmiXIuf4Y4LR",
        "colab_type": "text"
      },
      "source": [
        "#### Python Version"
      ]
    },
    {
      "cell_type": "code",
      "metadata": {
        "id": "jtg8EVlRuxj7",
        "colab_type": "code",
        "outputId": "0655d0fa-88e1-4b1c-b17f-480dfbc920db",
        "colab": {
          "base_uri": "https://localhost:8080/",
          "height": 35
        }
      },
      "source": [
        "# Check Python Version\n",
        "!python --version"
      ],
      "execution_count": 1,
      "outputs": [
        {
          "output_type": "stream",
          "text": [
            "Python 3.6.7\n"
          ],
          "name": "stdout"
        }
      ]
    },
    {
      "cell_type": "markdown",
      "metadata": {
        "id": "EsDqrSm5Y6qM",
        "colab_type": "text"
      },
      "source": [
        "#### Ubuntu Version"
      ]
    },
    {
      "cell_type": "code",
      "metadata": {
        "id": "UYWxl68Quyv7",
        "colab_type": "code",
        "outputId": "1974359b-3448-4086-a1d0-5c0d5efa13f8",
        "colab": {
          "base_uri": "https://localhost:8080/",
          "height": 107
        }
      },
      "source": [
        "# Check Ubuntu Version\n",
        "!lsb_release -a"
      ],
      "execution_count": 2,
      "outputs": [
        {
          "output_type": "stream",
          "text": [
            "No LSB modules are available.\n",
            "Distributor ID:\tUbuntu\n",
            "Description:\tUbuntu 18.04.2 LTS\n",
            "Release:\t18.04\n",
            "Codename:\tbionic\n"
          ],
          "name": "stdout"
        }
      ]
    },
    {
      "cell_type": "markdown",
      "metadata": {
        "id": "H2WPSwsMY_XE",
        "colab_type": "text"
      },
      "source": [
        "#### Check CUDA Version"
      ]
    },
    {
      "cell_type": "code",
      "metadata": {
        "id": "eGAqqUlOuyXF",
        "colab_type": "code",
        "outputId": "18031af9-fceb-4bf1-9b32-0aeccc5f8710",
        "colab": {
          "base_uri": "https://localhost:8080/",
          "height": 107
        }
      },
      "source": [
        "# Check CUDA/cuDNN Version\n",
        "!nvcc -V && which nvcc"
      ],
      "execution_count": 3,
      "outputs": [
        {
          "output_type": "stream",
          "text": [
            "nvcc: NVIDIA (R) Cuda compiler driver\n",
            "Copyright (c) 2005-2018 NVIDIA Corporation\n",
            "Built on Sat_Aug_25_21:08:01_CDT_2018\n",
            "Cuda compilation tools, release 10.0, V10.0.130\n",
            "/usr/local/cuda/bin/nvcc\n"
          ],
          "name": "stdout"
        }
      ]
    },
    {
      "cell_type": "markdown",
      "metadata": {
        "id": "QCr_TZjqZDve",
        "colab_type": "text"
      },
      "source": [
        "#### Check GPU Version"
      ]
    },
    {
      "cell_type": "code",
      "metadata": {
        "id": "nAj-Ie3nv-aM",
        "colab_type": "code",
        "outputId": "92573ad3-2301-43f7-9e13-6273edceb81f",
        "colab": {
          "base_uri": "https://localhost:8080/",
          "height": 305
        }
      },
      "source": [
        "# Check GPU\n",
        "!nvidia-smi"
      ],
      "execution_count": 4,
      "outputs": [
        {
          "output_type": "stream",
          "text": [
            "Mon May  6 07:49:20 2019       \n",
            "+-----------------------------------------------------------------------------+\n",
            "| NVIDIA-SMI 418.56       Driver Version: 410.79       CUDA Version: 10.0     |\n",
            "|-------------------------------+----------------------+----------------------+\n",
            "| GPU  Name        Persistence-M| Bus-Id        Disp.A | Volatile Uncorr. ECC |\n",
            "| Fan  Temp  Perf  Pwr:Usage/Cap|         Memory-Usage | GPU-Util  Compute M. |\n",
            "|===============================+======================+======================|\n",
            "|   0  Tesla T4            Off  | 00000000:00:04.0 Off |                    0 |\n",
            "| N/A   50C    P0    27W /  70W |    365MiB / 15079MiB |      0%      Default |\n",
            "+-------------------------------+----------------------+----------------------+\n",
            "                                                                               \n",
            "+-----------------------------------------------------------------------------+\n",
            "| Processes:                                                       GPU Memory |\n",
            "|  GPU       PID   Type   Process name                             Usage      |\n",
            "|=============================================================================|\n",
            "+-----------------------------------------------------------------------------+\n"
          ],
          "name": "stdout"
        }
      ]
    },
    {
      "cell_type": "markdown",
      "metadata": {
        "id": "6OyjkVky6viJ",
        "colab_type": "text"
      },
      "source": [
        "#### Check GPU if You've Right Version (T4)\n",
        "Many thanks to NVIDIA team for this snippet of code to automatically set up everything."
      ]
    },
    {
      "cell_type": "code",
      "metadata": {
        "id": "94Fdr-lt6wGv",
        "colab_type": "code",
        "outputId": "100655d2-3f86-4f81-d9b3-5456a259a21c",
        "colab": {
          "base_uri": "https://localhost:8080/",
          "height": 35
        }
      },
      "source": [
        "import pynvml\n",
        "\n",
        "pynvml.nvmlInit()\n",
        "handle = pynvml.nvmlDeviceGetHandleByIndex(0)\n",
        "device_name = pynvml.nvmlDeviceGetName(handle)\n",
        "\n",
        "if device_name != b'Tesla T4':\n",
        "  raise Exception(\"\"\"\n",
        "    Unfortunately this instance does not have a T4 GPU.\n",
        "    \n",
        "    Please make sure you've configured Colab to request a GPU instance type.\n",
        "    \n",
        "    Sometimes Colab allocates a Tesla K80 instead of a T4. Resetting the instance.\n",
        "\n",
        "    If you get a K80 GPU, try Runtime -> Reset all runtimes...\n",
        "  \"\"\")\n",
        "else:\n",
        "  print('Woo! You got the right kind of GPU!')"
      ],
      "execution_count": 5,
      "outputs": [
        {
          "output_type": "stream",
          "text": [
            "Woo! You got the right kind of GPU!\n"
          ],
          "name": "stdout"
        }
      ]
    },
    {
      "cell_type": "markdown",
      "metadata": {
        "id": "19gRLN_8uvEh",
        "colab_type": "text"
      },
      "source": [
        "### Installation of cuDF/cuML\n",
        "Many thanks to NVIDIA team for this snippet of code to automatically set up everything."
      ]
    },
    {
      "cell_type": "code",
      "metadata": {
        "id": "qZyMvAQp6iwB",
        "colab_type": "code",
        "outputId": "df0c05f3-884e-43be-8c4f-386f665042a8",
        "colab": {
          "base_uri": "https://localhost:8080/",
          "height": 1565
        }
      },
      "source": [
        "# intall miniconda\n",
        "!wget -c https://repo.continuum.io/miniconda/Miniconda3-4.5.4-Linux-x86_64.sh\n",
        "!chmod +x Miniconda3-4.5.4-Linux-x86_64.sh\n",
        "!bash ./Miniconda3-4.5.4-Linux-x86_64.sh -b -f -p /usr/local\n",
        "\n",
        "# install RAPIDS packages\n",
        "!conda install -q -y --prefix /usr/local -c conda-forge \\\n",
        "  -c rapidsai-nightly/label/cuda10.0 -c nvidia/label/cuda10.0 \\\n",
        "  cudf cuml\n",
        "\n",
        "# set environment vars\n",
        "import sys, os, shutil\n",
        "sys.path.append('/usr/local/lib/python3.6/site-packages/')\n",
        "os.environ['NUMBAPRO_NVVM'] = '/usr/local/cuda/nvvm/lib64/libnvvm.so'\n",
        "os.environ['NUMBAPRO_LIBDEVICE'] = '/usr/local/cuda/nvvm/libdevice/'\n",
        "\n",
        "# copy .so files to current working dir\n",
        "for fn in ['libcudf.so', 'librmm.so']:\n",
        "  shutil.copy('/usr/local/lib/'+fn, os.getcwd())"
      ],
      "execution_count": 6,
      "outputs": [
        {
          "output_type": "stream",
          "text": [
            "--2019-05-06 07:49:28--  https://repo.continuum.io/miniconda/Miniconda3-4.5.4-Linux-x86_64.sh\n",
            "Resolving repo.continuum.io (repo.continuum.io)... 104.18.201.79, 104.18.200.79, 2606:4700::6812:c84f, ...\n",
            "Connecting to repo.continuum.io (repo.continuum.io)|104.18.201.79|:443... connected.\n",
            "HTTP request sent, awaiting response... 416 Requested Range Not Satisfiable\n",
            "\n",
            "    The file is already fully retrieved; nothing to do.\n",
            "\n",
            "PREFIX=/usr/local\n",
            "installing: python-3.6.5-hc3d631a_2 ...\n",
            "Python 3.6.5 :: Anaconda, Inc.\n",
            "installing: ca-certificates-2018.03.07-0 ...\n",
            "installing: conda-env-2.6.0-h36134e3_1 ...\n",
            "installing: libgcc-ng-7.2.0-hdf63c60_3 ...\n",
            "installing: libstdcxx-ng-7.2.0-hdf63c60_3 ...\n",
            "installing: libffi-3.2.1-hd88cf55_4 ...\n",
            "installing: ncurses-6.1-hf484d3e_0 ...\n",
            "installing: openssl-1.0.2o-h20670df_0 ...\n",
            "installing: tk-8.6.7-hc745277_3 ...\n",
            "installing: xz-5.2.4-h14c3975_4 ...\n",
            "installing: yaml-0.1.7-had09818_2 ...\n",
            "installing: zlib-1.2.11-ha838bed_2 ...\n",
            "installing: libedit-3.1.20170329-h6b74fdf_2 ...\n",
            "installing: readline-7.0-ha6073c6_4 ...\n",
            "installing: sqlite-3.23.1-he433501_0 ...\n",
            "installing: asn1crypto-0.24.0-py36_0 ...\n",
            "installing: certifi-2018.4.16-py36_0 ...\n",
            "installing: chardet-3.0.4-py36h0f667ec_1 ...\n",
            "installing: idna-2.6-py36h82fb2a8_1 ...\n",
            "installing: pycosat-0.6.3-py36h0a5515d_0 ...\n",
            "installing: pycparser-2.18-py36hf9f622e_1 ...\n",
            "installing: pysocks-1.6.8-py36_0 ...\n",
            "installing: ruamel_yaml-0.15.37-py36h14c3975_2 ...\n",
            "installing: six-1.11.0-py36h372c433_1 ...\n",
            "installing: cffi-1.11.5-py36h9745a5d_0 ...\n",
            "installing: setuptools-39.2.0-py36_0 ...\n",
            "installing: cryptography-2.2.2-py36h14c3975_0 ...\n",
            "installing: wheel-0.31.1-py36_0 ...\n",
            "installing: pip-10.0.1-py36_0 ...\n",
            "installing: pyopenssl-18.0.0-py36_0 ...\n",
            "installing: urllib3-1.22-py36hbe7ace6_0 ...\n",
            "installing: requests-2.18.4-py36he2e5f8d_1 ...\n",
            "installing: conda-4.5.4-py36_0 ...\n",
            "unlinking: ca-certificates-2019.3.9-hecc5488_0\n",
            "unlinking: certifi-2019.3.9-py36_0\n",
            "unlinking: conda-4.6.14-py36_0\n",
            "unlinking: cryptography-2.6.1-py36h72c5cf5_0\n",
            "unlinking: libgcc-ng-8.2.0-hdf63c60_1\n",
            "unlinking: libstdcxx-ng-8.2.0-hdf63c60_1\n",
            "unlinking: openssl-1.1.1b-h14c3975_1\n",
            "unlinking: python-3.6.7-h381d211_1004\n",
            "unlinking: sqlite-3.26.0-h67949de_1001\n",
            "unlinking: tk-8.6.9-h84994c4_1001\n",
            "installation finished.\n",
            "WARNING:\n",
            "    You currently have a PYTHONPATH environment variable set. This may cause\n",
            "    unexpected behavior when running the Python interpreter in Miniconda3.\n",
            "    For best results, please verify that your PYTHONPATH only points to\n",
            "    directories of packages that are compatible with the Python interpreter\n",
            "    in Miniconda3: /usr/local\n",
            "Solving environment: ...working... done\n",
            "\n",
            "## Package Plan ##\n",
            "\n",
            "  environment location: /usr/local\n",
            "\n",
            "  added / updated specs: \n",
            "    - cudf\n",
            "    - cuml\n",
            "\n",
            "\n",
            "The following packages will be UPDATED:\n",
            "\n",
            "    ca-certificates: 2018.03.07-0         --> 2019.3.9-hecc5488_0  conda-forge\n",
            "    certifi:         2018.4.16-py36_0     --> 2019.3.9-py36_0      conda-forge\n",
            "    conda:           4.5.4-py36_0         --> 4.6.14-py36_0        conda-forge\n",
            "    cryptography:    2.2.2-py36h14c3975_0 --> 2.6.1-py36h72c5cf5_0 conda-forge\n",
            "    libgcc-ng:       7.2.0-hdf63c60_3     --> 8.2.0-hdf63c60_1                \n",
            "    libstdcxx-ng:    7.2.0-hdf63c60_3     --> 8.2.0-hdf63c60_1                \n",
            "    openssl:         1.0.2o-h20670df_0    --> 1.1.1b-h14c3975_1    conda-forge\n",
            "    python:          3.6.5-hc3d631a_2     --> 3.6.7-h381d211_1004  conda-forge\n",
            "    sqlite:          3.23.1-he433501_0    --> 3.26.0-h67949de_1001 conda-forge\n",
            "    tk:              8.6.7-hc745277_3     --> 8.6.9-h84994c4_1001  conda-forge\n",
            "\n",
            "Preparing transaction: ...working... done\n",
            "Verifying transaction: ...working... done\n",
            "Executing transaction: ...working... done\n"
          ],
          "name": "stdout"
        }
      ]
    },
    {
      "cell_type": "markdown",
      "metadata": {
        "id": "fweFyNRw00So",
        "colab_type": "text"
      },
      "source": [
        "## Critical Imports"
      ]
    },
    {
      "cell_type": "code",
      "metadata": {
        "id": "hUagBPMOuMAy",
        "colab_type": "code",
        "colab": {}
      },
      "source": [
        "# Critical imports\n",
        "import nvstrings, nvcategory, cudf\n",
        "import cuml\n",
        "import os\n",
        "import numpy as np\n",
        "import pandas as pd"
      ],
      "execution_count": 0,
      "outputs": []
    },
    {
      "cell_type": "markdown",
      "metadata": {
        "id": "744SJmhKZVxM",
        "colab_type": "text"
      },
      "source": [
        "## DataFrame Operations"
      ]
    },
    {
      "cell_type": "code",
      "metadata": {
        "id": "47BX3RCquMA3",
        "colab_type": "code",
        "colab": {
          "base_uri": "https://localhost:8080/",
          "height": 161
        },
        "outputId": "2bb14ed3-a1af-4c48-f50d-8e23459e5719"
      },
      "source": [
        "gdf = cudf.Series([1, 2, 3, 4, 5, 6])\n",
        "print(gdf)\n",
        "print(type(gdf))"
      ],
      "execution_count": 8,
      "outputs": [
        {
          "output_type": "stream",
          "text": [
            "0    1\n",
            "1    2\n",
            "2    3\n",
            "3    4\n",
            "4    5\n",
            "5    6\n",
            "dtype: int64\n",
            "<class 'cudf.dataframe.series.Series'>\n"
          ],
          "name": "stdout"
        }
      ]
    },
    {
      "cell_type": "markdown",
      "metadata": {
        "id": "Z1ALZGBiuMBD",
        "colab_type": "text"
      },
      "source": [
        "### Create a single column dataframe of floats"
      ]
    },
    {
      "cell_type": "code",
      "metadata": {
        "id": "XzyOT3TwuMBD",
        "colab_type": "code",
        "colab": {
          "base_uri": "https://localhost:8080/",
          "height": 143
        },
        "outputId": "d1c37d2f-5049-4c60-f0cb-4c8a714b9478"
      },
      "source": [
        "gdf = cudf.Series([1., 2., 3., 4., 5., 6.])\n",
        "print(gdf)"
      ],
      "execution_count": 9,
      "outputs": [
        {
          "output_type": "stream",
          "text": [
            "0    1.0\n",
            "1    2.0\n",
            "2    3.0\n",
            "3    4.0\n",
            "4    5.0\n",
            "5    6.0\n",
            "dtype: float64\n"
          ],
          "name": "stdout"
        }
      ]
    },
    {
      "cell_type": "markdown",
      "metadata": {
        "id": "XIdFWUHguMBK",
        "colab_type": "text"
      },
      "source": [
        "### Create three column dataframe of dates, integers and floats"
      ]
    },
    {
      "cell_type": "code",
      "metadata": {
        "id": "25v_tf7DuMBL",
        "colab_type": "code",
        "colab": {
          "base_uri": "https://localhost:8080/",
          "height": 215
        },
        "outputId": "55d2ac40-1e64-49db-84e5-29fcbe35f3d9"
      },
      "source": [
        "# Import\n",
        "import datetime as dt\n",
        "\n",
        "# Create blank cudf dataframe\n",
        "gdf = cudf.DataFrame()\n",
        "\n",
        "# Create 10 busindates ess from 1st January 2019 via pandas\n",
        "gdf['dates'] = pd.date_range('1/1/2019', periods=10, freq='B')\n",
        "\n",
        "# Integers\n",
        "gdf['integers'] = [i for i in range(10)]\n",
        "\n",
        "# Floats\n",
        "gdf['floats'] = [float(i) for i in range(10)]\n",
        "\n",
        "# Print dataframe\n",
        "print(gdf)"
      ],
      "execution_count": 10,
      "outputs": [
        {
          "output_type": "stream",
          "text": [
            "                     dates  integers  floats\n",
            "0 2019-01-01T00:00:00.000         0     0.0\n",
            "1 2019-01-02T00:00:00.000         1     1.0\n",
            "2 2019-01-03T00:00:00.000         2     2.0\n",
            "3 2019-01-04T00:00:00.000         3     3.0\n",
            "4 2019-01-07T00:00:00.000         4     4.0\n",
            "5 2019-01-08T00:00:00.000         5     5.0\n",
            "6 2019-01-09T00:00:00.000         6     6.0\n",
            "7 2019-01-10T00:00:00.000         7     7.0\n",
            "8 2019-01-11T00:00:00.000         8     8.0\n",
            "9 2019-01-14T00:00:00.000         9     9.0\n"
          ],
          "name": "stdout"
        }
      ]
    },
    {
      "cell_type": "markdown",
      "metadata": {
        "id": "UXu3dJKLuMBj",
        "colab_type": "text"
      },
      "source": [
        "### Create a dataframe of alphabets a, b and c (strings)"
      ]
    },
    {
      "cell_type": "code",
      "metadata": {
        "id": "72WzdwEDuMBk",
        "colab_type": "code",
        "colab": {
          "base_uri": "https://localhost:8080/",
          "height": 89
        },
        "outputId": "5708ed42-06bd-42ea-9cc4-6f71d32d9d7e"
      },
      "source": [
        "gdf = cudf.Series(['a', 'b', 'c'])\n",
        "print(gdf)"
      ],
      "execution_count": 11,
      "outputs": [
        {
          "output_type": "stream",
          "text": [
            "0    a\n",
            "1    b\n",
            "2    c\n",
            "dtype: object\n"
          ],
          "name": "stdout"
        }
      ]
    },
    {
      "cell_type": "markdown",
      "metadata": {
        "id": "QZ0vAkRMuMBq",
        "colab_type": "text"
      },
      "source": [
        "### Create a 2 Column Dataframe of integers and string category\n",
        "- For all string columns, you must convert them to type `category` for filtering functions to work intuitively (for now)"
      ]
    },
    {
      "cell_type": "code",
      "metadata": {
        "id": "NfazAxmeuMBr",
        "colab_type": "code",
        "colab": {
          "base_uri": "https://localhost:8080/",
          "height": 107
        },
        "outputId": "7c430d6c-044a-4806-e38d-844121239ce5"
      },
      "source": [
        "# Create pandas dataframe\n",
        "pandas_df = pd.DataFrame({\n",
        "    'integers': [1, 2, 3, 4], \n",
        "    'strings': ['a', 'b', 'c', 'd']\n",
        "})\n",
        "\n",
        "# Convert string column to category format\n",
        "pandas_df['strings'] = pandas_df['strings'].astype('category')\n",
        "\n",
        "# Bridge from pandas to cudf\n",
        "gdf = cudf.DataFrame.from_pandas(pandas_df)\n",
        "\n",
        "# Print dataframe\n",
        "print(gdf)"
      ],
      "execution_count": 12,
      "outputs": [
        {
          "output_type": "stream",
          "text": [
            "   integers  strings\n",
            "0         1        a\n",
            "1         2        b\n",
            "2         3        c\n",
            "3         4        d\n"
          ],
          "name": "stdout"
        }
      ]
    },
    {
      "cell_type": "markdown",
      "metadata": {
        "id": "jhcu9eJeuMBv",
        "colab_type": "text"
      },
      "source": [
        "### Printing Column Names"
      ]
    },
    {
      "cell_type": "code",
      "metadata": {
        "id": "hyFl4bVIuMBw",
        "colab_type": "code",
        "colab": {
          "base_uri": "https://localhost:8080/",
          "height": 35
        },
        "outputId": "64beeeb3-93ba-4e93-fef6-87258a8ce60c"
      },
      "source": [
        "gdf.columns"
      ],
      "execution_count": 13,
      "outputs": [
        {
          "output_type": "execute_result",
          "data": {
            "text/plain": [
              "Index(['integers', 'strings'], dtype='object')"
            ]
          },
          "metadata": {
            "tags": []
          },
          "execution_count": 13
        }
      ]
    },
    {
      "cell_type": "markdown",
      "metadata": {
        "id": "3GvIGth-K_ng",
        "colab_type": "text"
      },
      "source": [
        "### Filtering Integers/Floats by Column Values (Method 1)\n",
        "- This only works for floats and integers, not for strings"
      ]
    },
    {
      "cell_type": "code",
      "metadata": {
        "id": "y6PBAQasLYfi",
        "colab_type": "code",
        "colab": {
          "base_uri": "https://localhost:8080/",
          "height": 53
        },
        "outputId": "73cb6ec0-10ab-4ce0-d88e-1a1150ee2e6e"
      },
      "source": [
        "print(gdf.query('integers == 1'))"
      ],
      "execution_count": 14,
      "outputs": [
        {
          "output_type": "stream",
          "text": [
            "   integers  strings\n",
            "0         1        a\n"
          ],
          "name": "stdout"
        }
      ]
    },
    {
      "cell_type": "markdown",
      "metadata": {
        "id": "YZx6HN1AL3BD",
        "colab_type": "text"
      },
      "source": [
        "### Filtering Strings by Column Values (Method 1)"
      ]
    },
    {
      "cell_type": "code",
      "metadata": {
        "id": "QEtFUprCMCBB",
        "colab_type": "code",
        "colab": {
          "base_uri": "https://localhost:8080/",
          "height": 322
        },
        "outputId": "511baba3-3d59-4a7d-fe1a-acb3076f9877"
      },
      "source": [
        "print(gdf.query('strings == a'))"
      ],
      "execution_count": 15,
      "outputs": [
        {
          "output_type": "error",
          "ename": "KeyError",
          "evalue": "ignored",
          "traceback": [
            "\u001b[0;31m---------------------------------------------------------------------------\u001b[0m",
            "\u001b[0;31mKeyError\u001b[0m                                  Traceback (most recent call last)",
            "\u001b[0;32m<ipython-input-15-5cfd0345d51c>\u001b[0m in \u001b[0;36m<module>\u001b[0;34m()\u001b[0m\n\u001b[0;32m----> 1\u001b[0;31m \u001b[0mprint\u001b[0m\u001b[0;34m(\u001b[0m\u001b[0mgdf\u001b[0m\u001b[0;34m.\u001b[0m\u001b[0mquery\u001b[0m\u001b[0;34m(\u001b[0m\u001b[0;34m'strings == a'\u001b[0m\u001b[0;34m)\u001b[0m\u001b[0;34m)\u001b[0m\u001b[0;34m\u001b[0m\u001b[0;34m\u001b[0m\u001b[0m\n\u001b[0m",
            "\u001b[0;32m/usr/local/lib/python3.6/site-packages/cudf/dataframe/dataframe.py\u001b[0m in \u001b[0;36mquery\u001b[0;34m(self, expr, local_dict)\u001b[0m\n\u001b[1;32m   1903\u001b[0m         }\n\u001b[1;32m   1904\u001b[0m         \u001b[0;31m# Run query\u001b[0m\u001b[0;34m\u001b[0m\u001b[0;34m\u001b[0m\u001b[0;34m\u001b[0m\u001b[0m\n\u001b[0;32m-> 1905\u001b[0;31m         \u001b[0mboolmask\u001b[0m \u001b[0;34m=\u001b[0m \u001b[0mqueryutils\u001b[0m\u001b[0;34m.\u001b[0m\u001b[0mquery_execute\u001b[0m\u001b[0;34m(\u001b[0m\u001b[0mself\u001b[0m\u001b[0;34m,\u001b[0m \u001b[0mexpr\u001b[0m\u001b[0;34m,\u001b[0m \u001b[0mcallenv\u001b[0m\u001b[0;34m)\u001b[0m\u001b[0;34m\u001b[0m\u001b[0;34m\u001b[0m\u001b[0m\n\u001b[0m\u001b[1;32m   1906\u001b[0m \u001b[0;34m\u001b[0m\u001b[0m\n\u001b[1;32m   1907\u001b[0m         \u001b[0mselected\u001b[0m \u001b[0;34m=\u001b[0m \u001b[0mSeries\u001b[0m\u001b[0;34m(\u001b[0m\u001b[0mboolmask\u001b[0m\u001b[0;34m)\u001b[0m\u001b[0;34m\u001b[0m\u001b[0;34m\u001b[0m\u001b[0m\n",
            "\u001b[0;32m/usr/local/lib/python3.6/site-packages/cudf/utils/queryutils.py\u001b[0m in \u001b[0;36mquery_execute\u001b[0;34m(df, expr, callenv)\u001b[0m\n\u001b[1;32m    215\u001b[0m             \u001b[0menvargs\u001b[0m\u001b[0;34m.\u001b[0m\u001b[0mappend\u001b[0m\u001b[0;34m(\u001b[0m\u001b[0mval\u001b[0m\u001b[0;34m)\u001b[0m\u001b[0;34m\u001b[0m\u001b[0;34m\u001b[0m\u001b[0m\n\u001b[1;32m    216\u001b[0m     \u001b[0;31m# prepare col args\u001b[0m\u001b[0;34m\u001b[0m\u001b[0;34m\u001b[0m\u001b[0;34m\u001b[0m\u001b[0m\n\u001b[0;32m--> 217\u001b[0;31m     \u001b[0mcolarrays\u001b[0m \u001b[0;34m=\u001b[0m \u001b[0;34m[\u001b[0m\u001b[0mdf\u001b[0m\u001b[0;34m[\u001b[0m\u001b[0mcol\u001b[0m\u001b[0;34m]\u001b[0m\u001b[0;34m.\u001b[0m\u001b[0mto_gpu_array\u001b[0m\u001b[0;34m(\u001b[0m\u001b[0;34m)\u001b[0m \u001b[0;32mfor\u001b[0m \u001b[0mcol\u001b[0m \u001b[0;32min\u001b[0m \u001b[0mcompiled\u001b[0m\u001b[0;34m[\u001b[0m\u001b[0;34m'colnames'\u001b[0m\u001b[0;34m]\u001b[0m\u001b[0;34m]\u001b[0m\u001b[0;34m\u001b[0m\u001b[0;34m\u001b[0m\u001b[0m\n\u001b[0m\u001b[1;32m    218\u001b[0m     \u001b[0;31m# allocate output buffer\u001b[0m\u001b[0;34m\u001b[0m\u001b[0;34m\u001b[0m\u001b[0;34m\u001b[0m\u001b[0m\n\u001b[1;32m    219\u001b[0m     \u001b[0mnrows\u001b[0m \u001b[0;34m=\u001b[0m \u001b[0mlen\u001b[0m\u001b[0;34m(\u001b[0m\u001b[0mdf\u001b[0m\u001b[0;34m)\u001b[0m\u001b[0;34m\u001b[0m\u001b[0;34m\u001b[0m\u001b[0m\n",
            "\u001b[0;32m/usr/local/lib/python3.6/site-packages/cudf/utils/queryutils.py\u001b[0m in \u001b[0;36m<listcomp>\u001b[0;34m(.0)\u001b[0m\n\u001b[1;32m    215\u001b[0m             \u001b[0menvargs\u001b[0m\u001b[0;34m.\u001b[0m\u001b[0mappend\u001b[0m\u001b[0;34m(\u001b[0m\u001b[0mval\u001b[0m\u001b[0;34m)\u001b[0m\u001b[0;34m\u001b[0m\u001b[0;34m\u001b[0m\u001b[0m\n\u001b[1;32m    216\u001b[0m     \u001b[0;31m# prepare col args\u001b[0m\u001b[0;34m\u001b[0m\u001b[0;34m\u001b[0m\u001b[0;34m\u001b[0m\u001b[0m\n\u001b[0;32m--> 217\u001b[0;31m     \u001b[0mcolarrays\u001b[0m \u001b[0;34m=\u001b[0m \u001b[0;34m[\u001b[0m\u001b[0mdf\u001b[0m\u001b[0;34m[\u001b[0m\u001b[0mcol\u001b[0m\u001b[0;34m]\u001b[0m\u001b[0;34m.\u001b[0m\u001b[0mto_gpu_array\u001b[0m\u001b[0;34m(\u001b[0m\u001b[0;34m)\u001b[0m \u001b[0;32mfor\u001b[0m \u001b[0mcol\u001b[0m \u001b[0;32min\u001b[0m \u001b[0mcompiled\u001b[0m\u001b[0;34m[\u001b[0m\u001b[0;34m'colnames'\u001b[0m\u001b[0;34m]\u001b[0m\u001b[0;34m]\u001b[0m\u001b[0;34m\u001b[0m\u001b[0;34m\u001b[0m\u001b[0m\n\u001b[0m\u001b[1;32m    218\u001b[0m     \u001b[0;31m# allocate output buffer\u001b[0m\u001b[0;34m\u001b[0m\u001b[0;34m\u001b[0m\u001b[0;34m\u001b[0m\u001b[0m\n\u001b[1;32m    219\u001b[0m     \u001b[0mnrows\u001b[0m \u001b[0;34m=\u001b[0m \u001b[0mlen\u001b[0m\u001b[0;34m(\u001b[0m\u001b[0mdf\u001b[0m\u001b[0;34m)\u001b[0m\u001b[0;34m\u001b[0m\u001b[0;34m\u001b[0m\u001b[0m\n",
            "\u001b[0;32m/usr/local/lib/python3.6/site-packages/cudf/dataframe/dataframe.py\u001b[0m in \u001b[0;36m__getitem__\u001b[0;34m(self, arg)\u001b[0m\n\u001b[1;32m    231\u001b[0m         \u001b[0;32mif\u001b[0m \u001b[0misinstance\u001b[0m\u001b[0;34m(\u001b[0m\u001b[0marg\u001b[0m\u001b[0;34m,\u001b[0m \u001b[0mstr\u001b[0m\u001b[0;34m)\u001b[0m \u001b[0;32mor\u001b[0m \u001b[0misinstance\u001b[0m\u001b[0;34m(\u001b[0m\u001b[0marg\u001b[0m\u001b[0;34m,\u001b[0m \u001b[0mnumbers\u001b[0m\u001b[0;34m.\u001b[0m\u001b[0mIntegral\u001b[0m\u001b[0;34m)\u001b[0m \u001b[0;32mor\u001b[0m\u001b[0;31m \u001b[0m\u001b[0;31m\\\u001b[0m\u001b[0;34m\u001b[0m\u001b[0;34m\u001b[0m\u001b[0m\n\u001b[1;32m    232\u001b[0m            \u001b[0misinstance\u001b[0m\u001b[0;34m(\u001b[0m\u001b[0marg\u001b[0m\u001b[0;34m,\u001b[0m \u001b[0mtuple\u001b[0m\u001b[0;34m)\u001b[0m\u001b[0;34m:\u001b[0m\u001b[0;34m\u001b[0m\u001b[0;34m\u001b[0m\u001b[0m\n\u001b[0;32m--> 233\u001b[0;31m             \u001b[0ms\u001b[0m \u001b[0;34m=\u001b[0m \u001b[0mself\u001b[0m\u001b[0;34m.\u001b[0m\u001b[0m_cols\u001b[0m\u001b[0;34m[\u001b[0m\u001b[0marg\u001b[0m\u001b[0;34m]\u001b[0m\u001b[0;34m\u001b[0m\u001b[0;34m\u001b[0m\u001b[0m\n\u001b[0m\u001b[1;32m    234\u001b[0m             \u001b[0ms\u001b[0m\u001b[0;34m.\u001b[0m\u001b[0mname\u001b[0m \u001b[0;34m=\u001b[0m \u001b[0marg\u001b[0m\u001b[0;34m\u001b[0m\u001b[0;34m\u001b[0m\u001b[0m\n\u001b[1;32m    235\u001b[0m             \u001b[0ms\u001b[0m\u001b[0;34m.\u001b[0m\u001b[0mindex\u001b[0m \u001b[0;34m=\u001b[0m \u001b[0mself\u001b[0m\u001b[0;34m.\u001b[0m\u001b[0mindex\u001b[0m\u001b[0;34m\u001b[0m\u001b[0;34m\u001b[0m\u001b[0m\n",
            "\u001b[0;31mKeyError\u001b[0m: 'a'"
          ]
        }
      ]
    },
    {
      "cell_type": "markdown",
      "metadata": {
        "id": "Uay_v7yYMeH4",
        "colab_type": "text"
      },
      "source": [
        "### Filtering Strings by Column Values (Method 2)\n"
      ]
    },
    {
      "cell_type": "code",
      "metadata": {
        "id": "152skbpUuMB0",
        "colab_type": "code",
        "colab": {
          "base_uri": "https://localhost:8080/",
          "height": 53
        },
        "outputId": "eceb4589-16d8-405e-c319-dbdd5e3b4eb7"
      },
      "source": [
        "# Filtering based on the string column\n",
        "print(gdf[gdf.strings == 'b'])"
      ],
      "execution_count": 16,
      "outputs": [
        {
          "output_type": "stream",
          "text": [
            "   integers  strings\n",
            "1         2        b\n"
          ],
          "name": "stdout"
        }
      ]
    },
    {
      "cell_type": "markdown",
      "metadata": {
        "id": "7pttT0CeuMB-",
        "colab_type": "text"
      },
      "source": [
        "### Filtering Integers/Floats by Column Values (Method 2)"
      ]
    },
    {
      "cell_type": "code",
      "metadata": {
        "id": "RA8I5SrbzXGo",
        "colab_type": "code",
        "colab": {
          "base_uri": "https://localhost:8080/",
          "height": 53
        },
        "outputId": "59f91837-4ac4-4a3b-bfdc-50f2aa725701"
      },
      "source": [
        "# Filtering based on the string column\n",
        "print(gdf[gdf.integers == 2])"
      ],
      "execution_count": 17,
      "outputs": [
        {
          "output_type": "stream",
          "text": [
            "   integers  strings\n",
            "1         2        b\n"
          ],
          "name": "stdout"
        }
      ]
    },
    {
      "cell_type": "code",
      "metadata": {
        "id": "XSIzUBhAILv2",
        "colab_type": "code",
        "colab": {}
      },
      "source": [
        ""
      ],
      "execution_count": 0,
      "outputs": []
    },
    {
      "cell_type": "code",
      "metadata": {
        "id": "ODdEd8S0IMVT",
        "colab_type": "code",
        "colab": {}
      },
      "source": [
        ""
      ],
      "execution_count": 0,
      "outputs": []
    }
  ]
}