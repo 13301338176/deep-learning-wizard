{
 "cells": [
  {
   "cell_type": "code",
   "execution_count": 7,
   "metadata": {
    "collapsed": true
   },
   "outputs": [],
   "source": [
    "### Exploring Blackjack Environment"
   ]
  },
  {
   "cell_type": "markdown",
   "metadata": {},
   "source": [
    "#### Observational and Action Space\n",
    "- Action space\n",
    "    - Stick: don't take a card (pass)\n",
    "    - Hit: take a card\n",
    "- Observational space\n",
    "    - player's current sum of all cards\n",
    "        - $\\{0, 1, \\ldots, 31\\}$\n",
    "    - dealer's face-up card\n",
    "        - $\\{1, \\ldots, 10\\}$\n",
    "    - player's usable ace\n",
    "        - $\\{0, 1\\}$\n",
    "        - where 0 = no, 1 = yes\n",
    "        \n",
    "\n",
    "   "
   ]
  },
  {
   "cell_type": "code",
   "execution_count": 26,
   "metadata": {},
   "outputs": [
    {
     "name": "stdout",
     "output_type": "stream",
     "text": [
      "Tuple(Discrete(32), Discrete(11), Discrete(2))\n",
      "Discrete(2)\n"
     ]
    }
   ],
   "source": [
    "# Import gym\n",
    "import gym\n",
    "\n",
    "# Make the environment\n",
    "env = gym.make('Blackjack-v0')\n",
    "\n",
    "# Tuple of (player sum of cards, dealer's face up card, player's usable ace)\n",
    "print(env.observation_space)\n",
    "\n",
    "# STICK (don't take a card) or HIT (take a card)\n",
    "print(env.action_space)"
   ]
  },
  {
   "cell_type": "markdown",
   "metadata": {},
   "source": [
    "#### 2 Game Trial"
   ]
  },
  {
   "cell_type": "code",
   "execution_count": 27,
   "metadata": {
    "scrolled": true
   },
   "outputs": [
    {
     "name": "stdout",
     "output_type": "stream",
     "text": [
      "Game number 1\n",
      "Initial state (17, 6, False)\n",
      "==================================================\n",
      "End game! Reward:  1.0\n",
      "You won :)\n",
      "\n",
      "Game number 2\n",
      "Initial state (12, 6, False)\n",
      "==================================================\n",
      "End game! Reward:  1.0\n",
      "You won :)\n",
      "\n"
     ]
    }
   ],
   "source": [
    "for game_idx in range(2):\n",
    "    # Reset environment\n",
    "    state = env.reset()\n",
    "    print('Game number {}'.format(game_idx + 1))\n",
    "    print('Initial state {}'.format(state))\n",
    "    print('='*50)\n",
    "    \n",
    "    while True:\n",
    "        # Randomly sample action from the action space, still will randomly return 0 or 1\n",
    "        action = env.action_space.sample()\n",
    "        state, reward, done, info = env.step(action)\n",
    "        \n",
    "        if done:\n",
    "            print('End game! Reward: ', reward)\n",
    "            print('You won :)\\n') if reward > 0 else print('You lost :(\\n')\n",
    "            break"
   ]
  },
  {
   "cell_type": "code",
   "execution_count": null,
   "metadata": {
    "collapsed": true
   },
   "outputs": [],
   "source": []
  },
  {
   "cell_type": "code",
   "execution_count": null,
   "metadata": {
    "collapsed": true
   },
   "outputs": [],
   "source": []
  }
 ],
 "metadata": {
  "kernelspec": {
   "display_name": "Python 3",
   "language": "python",
   "name": "python3"
  },
  "language_info": {
   "codemirror_mode": {
    "name": "ipython",
    "version": 3
   },
   "file_extension": ".py",
   "mimetype": "text/x-python",
   "name": "python",
   "nbconvert_exporter": "python",
   "pygments_lexer": "ipython3",
   "version": "3.6.2"
  }
 },
 "nbformat": 4,
 "nbformat_minor": 2
}
