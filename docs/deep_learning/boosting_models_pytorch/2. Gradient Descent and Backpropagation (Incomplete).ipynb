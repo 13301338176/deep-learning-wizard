{
 "cells": [
  {
   "cell_type": "markdown",
   "metadata": {
    "collapsed": true
   },
   "source": [
    "# 2. Gradient Descent and Backpropagation\n",
    "\n",
    "## Major Sections\n",
    "- Gradients\n",
    "- Gradient Descent\n",
    "- Backpropagation\n",
    "\n",
    "## References\n",
    "```\n",
    "Gradients: http://wiki.fast.ai/index.php/Calculus_for_Deep_Learning\n",
    "Gradient Descent: https://www.ritchieng.com/one-variable-linear-regression/\n",
    "Gradient Descent: https://www.ritchieng.com/multi-variable-linear-regression/#1c-gradient-descent-feature-scaling\n",
    "Backpropagation: https://mattmazur.com/2015/03/17/a-step-by-step-backpropagation-example/\n",
    "```"
   ]
  },
  {
   "cell_type": "code",
   "execution_count": null,
   "metadata": {
    "collapsed": true
   },
   "outputs": [],
   "source": []
  }
 ],
 "metadata": {
  "kernelspec": {
   "display_name": "Python 3",
   "language": "python",
   "name": "python3"
  },
  "language_info": {
   "codemirror_mode": {
    "name": "ipython",
    "version": 3
   },
   "file_extension": ".py",
   "mimetype": "text/x-python",
   "name": "python",
   "nbconvert_exporter": "python",
   "pygments_lexer": "ipython3",
   "version": "3.6.2"
  }
 },
 "nbformat": 4,
 "nbformat_minor": 2
}
