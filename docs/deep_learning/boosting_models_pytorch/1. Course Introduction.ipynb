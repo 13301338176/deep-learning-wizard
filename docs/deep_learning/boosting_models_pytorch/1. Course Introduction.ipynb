{
 "cells": [
  {
   "cell_type": "markdown",
   "metadata": {},
   "source": [
    "---\n",
    "\n",
    "# Course Introduction\n",
    "# Enhancing Model Performance with PyTorch\n",
    "\n",
    "---\n",
    "## Requirements\n",
    "- Practical Deep Learning with PyTorch Course\n",
    "    1. PyTorch Fundamentals\n",
    "    2. Linear Regression\n",
    "    3. Logistic Regression\n",
    "    4. Feedforward Neural Network\n",
    "    5. Convolutional Neural Network\n",
    "    6. Recurrent Neural Network\n",
    "    7. Long Short-Term Neural Network\n",
    "---\n",
    "## Main Aim\n",
    "**Get the programming skills to use deep learning for your future projects.**\n",
    "- Understand every line of code.\n",
    "- Able to implement a number of fundamental deep learning projects or papers.\n",
    "\n",
    "---\n",
    "## Model Enhancement\n",
    "1. Introduction\n",
    "2. Optimizers\n",
    "3. Learning Rate Scheduling\n",
    "4. Advanced Learning Rate Optimization\n",
    "5. Weight Initializations and Activation Functions\n",
    "6. Regularization for Overfitting"
   ]
  }
 ],
 "metadata": {
  "anaconda-cloud": {},
  "kernelspec": {
   "display_name": "Python 3",
   "language": "python",
   "name": "python3"
  },
  "language_info": {
   "codemirror_mode": {
    "name": "ipython",
    "version": 3
   },
   "file_extension": ".py",
   "mimetype": "text/x-python",
   "name": "python",
   "nbconvert_exporter": "python",
   "pygments_lexer": "ipython3",
   "version": "3.6.2"
  }
 },
 "nbformat": 4,
 "nbformat_minor": 1
}
