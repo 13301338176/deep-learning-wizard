{
 "cells": [
  {
   "cell_type": "markdown",
   "metadata": {},
   "source": [
    "#### Transiting to Backpropagation\n",
    "- Let's go back to our simple FNN to put things in perspective\n",
    "    - Let us ignore non-linearities for now to keep it simpler, but it's just a tiny change subsequently\n",
    "    - Given a linear transformation on our input (for simplicity instead of an affine transformation that includes a bias): $\\hat y = \\theta x$\n",
    "        - $\\theta$ is our parameters\n",
    "        - $x$ is our input\n",
    "        - $\\hat y$ is our prediction\n",
    "    - Then we have our MSE loss function $L = \\frac{1}{2} (\\hat y - y)^2$\n",
    "- We need to calculate our partial derivatives of our loss w.r.t. our parameters to update our parameters: $\\nabla_{\\theta} = \\frac{\\delta L}{\\delta \\theta}$\n",
    "    - With chain rule we have $\\frac{\\delta L}{\\delta \\theta} = \\frac{\\delta L}{\\delta \\hat y} \\frac{\\delta \\hat y}{\\delta \\theta}$\n",
    "        - $\\frac{\\delta L}{\\delta \\hat y} = (\\hat y -  y)$\n",
    "        - $\\frac{\\delta \\hat y}{\\delta \\theta}$ is our partial derivatives of $y$ w.r.t. our parameters (our gradient) as we have covered previously\n",
    "        \n",
    "\n",
    "#### Forward Propagation, Backward Propagation and Gradient Descent\n",
    "- When we have multiple layers and non-linearities, there is a \"smarter\", more \"simplified\" way to getting the gradients (backpropagation) that are used to update our parameters (gradient descent)\n",
    "- Let us assume the following simple feedforward neural network (FNN) architecture\n",
    "    - [diagram]\n",
    "     - 1 linear layer + 1 non-linearity (sigmoid)\n",
    "     - 1 linear layer + 1 non-linearity (sigmoid)\n",
    " - With this architecture in mind, let us break down the whole process"
   ]
  },
  {
   "cell_type": "code",
   "execution_count": 1,
   "metadata": {
    "collapsed": true
   },
   "outputs": [],
   "source": [
    "import torch\n",
    "import torch.nn as nn"
   ]
  },
  {
   "cell_type": "code",
   "execution_count": 2,
   "metadata": {
    "collapsed": true
   },
   "outputs": [],
   "source": [
    "from sklearn import datasets\n",
    "from sklearn import preprocessing\n",
    "iris = datasets.load_iris()\n",
    "X = torch.tensor(preprocessing.normalize(iris.data[:, :2]), dtype=torch.float)\n",
    "y = torch.tensor(iris.target.reshape(-1, 1), dtype=torch.float)"
   ]
  },
  {
   "cell_type": "code",
   "execution_count": 3,
   "metadata": {},
   "outputs": [
    {
     "name": "stdout",
     "output_type": "stream",
     "text": [
      "torch.Size([150, 2])\n",
      "torch.Size([150, 1])\n"
     ]
    }
   ],
   "source": [
    "print(X.size())\n",
    "print(y.size())"
   ]
  },
  {
   "cell_type": "code",
   "execution_count": 4,
   "metadata": {
    "collapsed": true
   },
   "outputs": [],
   "source": [
    "# We only take 2 classes to make a binary classification problem\n",
    "X = X[:y[y < 2].size()[0]]\n",
    "y = y[:y[y < 2].size()[0]]"
   ]
  },
  {
   "cell_type": "code",
   "execution_count": 5,
   "metadata": {},
   "outputs": [
    {
     "name": "stdout",
     "output_type": "stream",
     "text": [
      "torch.Size([100, 2])\n",
      "torch.Size([100, 1])\n"
     ]
    }
   ],
   "source": [
    "print(X.size())\n",
    "print(y.size())"
   ]
  },
  {
   "cell_type": "code",
   "execution_count": 6,
   "metadata": {
    "collapsed": true
   },
   "outputs": [],
   "source": [
    "class FNN(nn.Module):\n",
    "    def __init__(self, ):\n",
    "        super().__init__()\n",
    "        \n",
    "        # Dimensions for input, hidden and output\n",
    "        self.input_dim = 2\n",
    "        self.hidden_dim = 32\n",
    "        self.output_dim = 1\n",
    "        \n",
    "        # Learning rate definition\n",
    "        self.learning_rate = 0.001\n",
    "        \n",
    "        # Our parameters (weights)\n",
    "        # w1: 2 x 32\n",
    "        self.w1 = torch.randn(self.input_dim, self.hidden_dim)\n",
    "        \n",
    "        # w2: 32 x 1\n",
    "        self.w2 = torch.randn(self.hidden_dim, self.output_dim)\n",
    "    \n",
    "    def sigmoid(self, s):\n",
    "        return 1 / (1 + torch.exp(-s))\n",
    "    \n",
    "    def sigmoid_first_order_derivative(self, s):\n",
    "        return s * (1 - s)\n",
    "    \n",
    "    # Forward propagation\n",
    "    def forward(self, X):\n",
    "        # First linear layer\n",
    "        self.z = torch.matmul(X, self.w1) # 3 X 3 \".dot\" does not broadcast in PyTorch\n",
    "        \n",
    "        # First non-linearity\n",
    "        self.z2 = self.sigmoid(self.z)\n",
    "        \n",
    "        # Second linear layer\n",
    "        self.z3 = torch.matmul(self.z2, self.w2)\n",
    "        \n",
    "        # Second non-linearity\n",
    "        y_hat = self.sigmoid(self.z3)\n",
    "        return y_hat\n",
    "        \n",
    "    # Backward propagation\n",
    "    def backward(self, X, y, y_hat):\n",
    "        # Cross entropy loss first order derivative\n",
    "        self.loss_prime = y_hat - y\n",
    "        \n",
    "        # Gradients for w2\n",
    "        self.o_delta = self.loss_prime * self.sigmoid_first_order_derivative(y_hat) # derivative of sig to error\n",
    "        \n",
    "        # Gradients for w1\n",
    "        self.z2_error = torch.matmul(self.o_delta, torch.t(self.w2))\n",
    "        self.z2_delta = self.z2_error * self.sigmoid_first_order_derivative(self.z2)\n",
    "        \n",
    "        # Gradient descent on the weights from our 2 linear layers\n",
    "        self.w1 -= self.learning_rate * torch.matmul(torch.t(X), self.z2_delta)\n",
    "        self.w2 -= self.learning_rate * torch.matmul(torch.t(self.z2), self.o_delta)\n",
    "\n",
    "    def train(self, X, y):\n",
    "        # Forward propagation\n",
    "        y_hat = self.forward(X)\n",
    "        \n",
    "        # Backward propagation and gradient descent\n",
    "        self.backward(X, y, y_hat)"
   ]
  },
  {
   "cell_type": "code",
   "execution_count": 7,
   "metadata": {
    "scrolled": true
   },
   "outputs": [
    {
     "name": "stdout",
     "output_type": "stream",
     "text": [
      "Epoch 0 | Loss: 0.8295722007751465\n",
      "Epoch 20 | Loss: 0.6691678762435913\n",
      "Epoch 40 | Loss: 0.6499217748641968\n",
      "Epoch 60 | Loss: 0.6467459797859192\n",
      "Epoch 80 | Loss: 0.6445568799972534\n",
      "Epoch 100 | Loss: 0.6424347162246704\n"
     ]
    }
   ],
   "source": [
    "# Instantiate our model class and assign it to our model object\n",
    "model = FNN()\n",
    "\n",
    "# Loss list for plotting of loss behaviour\n",
    "loss_lst = []\n",
    "\n",
    "# Number of times we want our FNN to look at all 100 samples we have, 100 implies looking through 100x\n",
    "num_epochs = 101\n",
    "\n",
    "# Let's train our model with 100 epochs\n",
    "for epoch in range(num_epochs):\n",
    "    # Get our predictions\n",
    "    y_hat = model(X)\n",
    "    \n",
    "    # Cross entropy loss, remember this can never be negative by nature of the equation\n",
    "    # But it does not mean the loss can't be negative for other loss functions\n",
    "    cross_entropy_loss = -(y * torch.log(y_hat) + (1 - y) * torch.log(1 - y_hat))\n",
    "    \n",
    "    # We have to take cross entropy loss over all our samples, 100 in this 2-class iris dataset\n",
    "    mean_cross_entropy_loss = torch.mean(cross_entropy_loss).detach().item()\n",
    "    \n",
    "    # Print our mean cross entropy loss\n",
    "    if epoch % 20 == 0:\n",
    "        print('Epoch {} | Loss: {}'.format(epoch, mean_cross_entropy_loss))\n",
    "    loss_lst.append(mean_cross_entropy_loss)\n",
    "    \n",
    "    # (1) Forward propagation: to get our predictions to pass to our cross entropy loss function\n",
    "    # (2) Back propagation: get our partial derivatives w.r.t. parameters (gradients)\n",
    "    # (3) Gradient Descent: update our weights with our gradients\n",
    "    model.train(X, y)"
   ]
  },
  {
   "cell_type": "code",
   "execution_count": 8,
   "metadata": {
    "scrolled": true
   },
   "outputs": [
    {
     "data": {
      "text/plain": [
       "<matplotlib.axes._subplots.AxesSubplot at 0x7fb550612208>"
      ]
     },
     "execution_count": 8,
     "metadata": {},
     "output_type": "execute_result"
    },
    {
     "data": {
      "image/png": "[encoded data removed]",
      "text/plain": [
       "<Figure size 432x288 with 1 Axes>"
      ]
     },
     "metadata": {
      "needs_background": "light"
     },
     "output_type": "display_data"
    }
   ],
   "source": [
    "import pandas as pd\n",
    "%matplotlib inline\n",
    "pd.Series(loss_lst).plot()"
   ]
  }
 ],
 "metadata": {
  "kernelspec": {
   "display_name": "latest",
   "language": "python",
   "name": "latest"
  },
  "language_info": {
   "codemirror_mode": {
    "name": "ipython",
    "version": 3
   },
   "file_extension": ".py",
   "mimetype": "text/x-python",
   "name": "python",
   "nbconvert_exporter": "python",
   "pygments_lexer": "ipython3",
   "version": "3.7.0"
  }
 },
 "nbformat": 4,
 "nbformat_minor": 2
}
