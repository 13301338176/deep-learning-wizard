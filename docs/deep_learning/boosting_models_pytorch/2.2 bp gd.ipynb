{
 "cells": [
  {
   "cell_type": "markdown",
   "metadata": {},
   "source": [
    "#### Backpropagation\n",
    "- Let's go back to our simple FNN to put things in perspective\n",
    "    - Let us ignore non-linearities for now to keep it simpler, but it's just a tiny change subsequently\n",
    "    - Given a linear transformation on our input (for simplicity instead of an affine transformation that includes a bias): $\\hat y = \\theta x$\n",
    "        - $\\theta$ is our parameters\n",
    "        - $x$ is our input\n",
    "        - $\\hat y$ is our prediction\n",
    "    - Then we have our loss function $L = \\frac{1}{2} (\\hat y - y)$\n",
    "- We need to calculate our partial derivatives of our loss w.r.t. our parameters to update our parameters: $\\nabla_{\\theta} = \\frac{dL}{d\\theta}$\n",
    "    - With chain rule we have $\\frac{dL}{d \\theta} = \\frac{dL}{dy} \\frac{dy}{d \\theta}$\n",
    "        - $\\frac{dL}{dy} = (\\hat y -  y)$\n",
    "        - $\\frac{dy}{d \\theta}$ is our partial derivatives of y w.r.t. our parameters (our gradient)"
   ]
  },
  {
   "cell_type": "code",
   "execution_count": null,
   "metadata": {
    "collapsed": true
   },
   "outputs": [],
   "source": []
  }
 ],
 "metadata": {
  "kernelspec": {
   "display_name": "Python 3",
   "language": "python",
   "name": "python3"
  },
  "language_info": {
   "codemirror_mode": {
    "name": "ipython",
    "version": 3
   },
   "file_extension": ".py",
   "mimetype": "text/x-python",
   "name": "python",
   "nbconvert_exporter": "python",
   "pygments_lexer": "ipython3",
   "version": "3.6.2"
  }
 },
 "nbformat": 4,
 "nbformat_minor": 2
}
