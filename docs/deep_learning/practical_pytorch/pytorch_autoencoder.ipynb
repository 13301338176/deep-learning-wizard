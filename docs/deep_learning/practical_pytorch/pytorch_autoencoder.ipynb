{
 "cells": [
  {
   "cell_type": "markdown",
   "metadata": {},
   "source": [
    "# Autoencoders with PyTorch\n",
    "\n",
    "!!! tip \"Run Jupyter Notebook\"\n",
    "    You can run the code for this section in this [jupyter notebook link](https://github.com/ritchieng/deep-learning-wizard/blob/master/docs/deep_learning/practical_pytorch/pytorch_autoencoder.ipynb).\n",
    "    \n",
    "## About Autoencoders\n",
    "\n",
    "### Feedforward Neural Network (FNN) to Autoencoders\n",
    "- Comparison diagram\n",
    "\n",
    "### Undercomplete and Overcomplete Autoencoders\n",
    "- Comparison"
   ]
  }
 ],
 "metadata": {
  "kernelspec": {
   "display_name": "latest",
   "language": "python",
   "name": "latest"
  },
  "language_info": {
   "codemirror_mode": {
    "name": "ipython",
    "version": 3
   },
   "file_extension": ".py",
   "mimetype": "text/x-python",
   "name": "python",
   "nbconvert_exporter": "python",
   "pygments_lexer": "ipython3",
   "version": "3.7.1"
  }
 },
 "nbformat": 4,
 "nbformat_minor": 2
}
