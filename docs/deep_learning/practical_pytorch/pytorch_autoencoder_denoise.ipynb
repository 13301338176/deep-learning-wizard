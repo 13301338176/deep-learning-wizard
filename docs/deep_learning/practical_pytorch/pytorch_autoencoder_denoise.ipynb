{
 "cells": [
  {
   "cell_type": "markdown",
   "metadata": {},
   "source": [
    "# Autoencoders with PyTorch\n",
    "\n",
    "!!! tip \"Run Jupyter Notebook\"\n",
    "    You can run the code for this section in this [jupyter notebook link](https://github.com/ritchieng/deep-learning-wizard/blob/master/docs/deep_learning/practical_pytorch/pytorch_autoencoder.ipynb).\n",
    "    \n",
    "## About Autoencoders\n",
    "\n",
    "### Feedforward Neural Network (FNN) to Autoencoders\n",
    "- Autoencoder is a form of **unsupervised learning**.\n",
    "    - This is a big deviation from what we have been doing: classification and regression which are under supervised learning.\n",
    "    - There are no labels required, inputs are used as labels.\n",
    "- Autoencoder's purpose is to learn an approximation of the identity function (mapping $x$ to $\\hat x$).\n",
    "    - Essentially we are trying to learn a function that can take our input $x$ and recreate it $\\hat x$.\n",
    "        - Technically we can do an exact recreation of our input we use a very wide and deep neural network.\n",
    "        \n",
    "![](./images/autoencoder_0.png)"
   ]
  },
  {
   "cell_type": "markdown",
   "metadata": {},
   "source": [
    "### Undercomplete and Overcomplete Autoencoders\n",
    "- Comparison"
   ]
  },
  {
   "cell_type": "code",
   "execution_count": null,
   "metadata": {
    "collapsed": true
   },
   "outputs": [],
   "source": []
  }
 ],
 "metadata": {
  "kernelspec": {
   "display_name": "latest",
   "language": "python",
   "name": "latest"
  },
  "language_info": {
   "codemirror_mode": {
    "name": "ipython",
    "version": 3
   },
   "file_extension": ".py",
   "mimetype": "text/x-python",
   "name": "python",
   "nbconvert_exporter": "python",
   "pygments_lexer": "ipython3",
   "version": "3.7.1"
  }
 },
 "nbformat": 4,
 "nbformat_minor": 2
}
