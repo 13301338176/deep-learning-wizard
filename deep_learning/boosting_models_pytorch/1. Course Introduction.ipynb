{
 "cells": [
  {
   "cell_type": "markdown",
   "metadata": {},
   "source": [
    "<img src=\"images/deeplearningwizard_web_logo.png\" alt=\"deeplearningwizard\" style=\"width: 500px;\"/>"
   ]
  },
  {
   "cell_type": "markdown",
   "metadata": {},
   "source": [
    "<br/>"
   ]
  },
  {
   "cell_type": "markdown",
   "metadata": {},
   "source": [
    "<br/>"
   ]
  },
  {
   "cell_type": "markdown",
   "metadata": {},
   "source": [
    "---\n",
    "\n",
    "# Course Introduction\n",
    "# Boosting & Visualizing Model Performance with PyTorch\n",
    "\n",
    "---\n",
    "## Requirements\n",
    "- Practical Deep Learning with PyTorch Course\n",
    "    1. PyTorch Fundamentals\n",
    "    2. Linear Regression\n",
    "    3. Logistic Regression\n",
    "    4. Feedforward Neural Network\n",
    "    5. Convolutional Neural Network\n",
    "    6. Recurrent Neural Network\n",
    "    7. Long Short-Term Neural Network\n",
    "\n",
    "---\n",
    "## Course Sequence\n",
    "1. Practical Deep Learning with PyTorch\n",
    "2. Boosting & Visualizing Model Performance with PyTorch\n",
    "\n",
    "---\n",
    "## Main Aim\n",
    "**Get the programming skills to use deep learning for your future projects.**\n",
    "- Understand every line of code.\n",
    "- Able to implement a number of fundamental deep learning projects or papers.\n",
    "\n",
    "---\n",
    "## Path to Deep Learning Wizardry: Model Enhancement Alchemy\n",
    "1. Optimizers\n",
    "2. Learning Rate Scheduling\n",
    "3. Weight Initializations and Activation Functions\n",
    "4. Regularization for Overfitting\n",
    "5. Hyperparameter Optimization\n",
    "6. Model Performance Visualization\n",
    "7. General Utilities\n",
    "\n",
    "---\n",
    "## Beyond This Course\n",
    "- **Free regular updates** to this course with deep learning tips and recipes\n",
    "- Upcoming separate courses with **more detailed mathematics, more complex code, and more complex state-of-the-art architectures** for:\n",
    "    1. Feedforward Neural Network\n",
    "    2. Convolutional Neural Network\n",
    "    3. Recurrent Neural Network\n",
    "    4. Deep Reinforcement Learning \n",
    "    5. Bayesian Deep Learning"
   ]
  }
 ],
 "metadata": {
  "anaconda-cloud": {},
  "kernelspec": {
   "display_name": "Python 3",
   "language": "python",
   "name": "python3"
  },
  "language_info": {
   "codemirror_mode": {
    "name": "ipython",
    "version": 3
   },
   "file_extension": ".py",
   "mimetype": "text/x-python",
   "name": "python",
   "nbconvert_exporter": "python",
   "pygments_lexer": "ipython3",
   "version": "3.6.2"
  }
 },
 "nbformat": 4,
 "nbformat_minor": 1
}
